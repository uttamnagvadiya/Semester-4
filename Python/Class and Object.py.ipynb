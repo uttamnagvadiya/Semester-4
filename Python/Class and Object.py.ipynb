{
 "cells": [
  {
   "cell_type": "code",
   "execution_count": 3,
   "id": "e7031164",
   "metadata": {},
   "outputs": [
    {
     "name": "stdout",
     "output_type": "stream",
     "text": [
      "3\n"
     ]
    }
   ],
   "source": [
    "class Demo:\n",
    "    \n",
    "    x = 3\n",
    "    \n",
    "d = Demo()\n",
    "\n",
    "print(d.x)\n"
   ]
  },
  {
   "cell_type": "code",
   "execution_count": 13,
   "id": "717249df",
   "metadata": {},
   "outputs": [
    {
     "name": "stdout",
     "output_type": "stream",
     "text": [
      "5\n",
      "uttam\n"
     ]
    }
   ],
   "source": [
    "class Demo:\n",
    "    \n",
    "    x = 5\n",
    "    def display(self, name) :\n",
    "        print(self.x,)\n",
    "        print(name)\n",
    "    \n",
    "d = Demo()\n",
    "d.display(\"uttam\")"
   ]
  },
  {
   "cell_type": "markdown",
   "id": "5c848d40",
   "metadata": {},
   "source": [
    "#### Constructer"
   ]
  },
  {
   "cell_type": "code",
   "execution_count": 17,
   "id": "9147efbd",
   "metadata": {},
   "outputs": [
    {
     "name": "stdout",
     "output_type": "stream",
     "text": [
      "Constructer called.\n",
      "Constructer called.\n",
      "Constructer called.\n"
     ]
    }
   ],
   "source": [
    "class Demo:\n",
    "    \n",
    "    def __init__(self):\n",
    "        print(\"Constructer called.\")\n",
    "        \n",
    "d = Demo()\n",
    "d1 = Demo()\n",
    "d2 = Demo()\n",
    "        "
   ]
  }
 ],
 "metadata": {
  "kernelspec": {
   "display_name": "Python 3 (ipykernel)",
   "language": "python",
   "name": "python3"
  },
  "language_info": {
   "codemirror_mode": {
    "name": "ipython",
    "version": 3
   },
   "file_extension": ".py",
   "mimetype": "text/x-python",
   "name": "python",
   "nbconvert_exporter": "python",
   "pygments_lexer": "ipython3",
   "version": "3.9.12"
  }
 },
 "nbformat": 4,
 "nbformat_minor": 5
}
