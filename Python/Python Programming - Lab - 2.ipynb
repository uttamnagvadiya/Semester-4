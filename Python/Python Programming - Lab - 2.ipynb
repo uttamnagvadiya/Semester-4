{
 "cells": [
  {
   "cell_type": "markdown",
   "metadata": {},
   "source": [
    "\n",
    "<a href='https://www.darshan.ac.in/'> <img src='https://www.darshan.ac.in/Content/media/DU_Logo.svg' width=\"250\" height=\"300\"/></a>\n",
    "<pre>\n",
    "<center><b><h1>Python Programming - 2101CS405</b></center>\n",
    "<center><b><h1>Lab - 2</b></center>    \n",
    "<pre>"
   ]
  },
  {
   "cell_type": "markdown",
   "metadata": {},
   "source": [
    "# if..else.."
   ]
  },
  {
   "cell_type": "markdown",
   "metadata": {},
   "source": [
    "### 01) WAP to check whether the given number is positive or negative."
   ]
  },
  {
   "cell_type": "code",
   "execution_count": 26,
   "metadata": {},
   "outputs": [
    {
     "name": "stdout",
     "output_type": "stream",
     "text": [
      "this number is negative\n"
     ]
    }
   ],
   "source": [
    "number = int(input(\"Enter the Number : \"));\n",
    "\n",
    "if(number == 0):\n",
    "    print(\"this number is zero.\");\n",
    "elif(number > 0):\n",
    "    print(\"this number is positive.\");\n",
    "else:\n",
    "    print(\"this number is negative\");"
   ]
  },
  {
   "cell_type": "markdown",
   "metadata": {},
   "source": [
    "### 02) WAP to check whether the given number is odd or even"
   ]
  },
  {
   "cell_type": "code",
   "execution_count": 23,
   "metadata": {},
   "outputs": [
    {
     "name": "stdout",
     "output_type": "stream",
     "text": [
      "34354313 is odd number.\n"
     ]
    }
   ],
   "source": [
    "number = int(input(\"Enter the Number : \"));\n",
    "\n",
    "if(number % 2 == 0):\n",
    "    print(number, \"is even number.\");\n",
    "else:\n",
    "    print(number, \"is odd number.\");"
   ]
  },
  {
   "cell_type": "markdown",
   "metadata": {},
   "source": [
    "### 03) WAP to find out largest number from given two numbers using simple if and ternary operator."
   ]
  },
  {
   "cell_type": "code",
   "execution_count": 13,
   "metadata": {},
   "outputs": [
    {
     "name": "stdout",
     "output_type": "stream",
     "text": [
      "X =  54.0 , Y =  65.0\n",
      "65.0 is large number\n"
     ]
    }
   ],
   "source": [
    "x = float(input(\"Enter the X : \"));\n",
    "y = float(input(\"Enter the Y : \"));\n",
    "\n",
    "max = x if (x>y) else y;\n",
    "\n",
    "print(\"X = \", x, \", Y = \", y);\n",
    "print(max, \"is large number\");"
   ]
  },
  {
   "cell_type": "markdown",
   "metadata": {},
   "source": [
    "### 04) WAP to find out largest number from given three numbers."
   ]
  },
  {
   "cell_type": "code",
   "execution_count": 21,
   "metadata": {},
   "outputs": [
    {
     "name": "stdout",
     "output_type": "stream",
     "text": [
      "X =  89.0 , Y =  65.0 , Z =  23.0\n",
      "89.0 is large number\n"
     ]
    }
   ],
   "source": [
    "x = float(input(\"Enter the X : \"));\n",
    "y = float(input(\"Enter the Y : \"));\n",
    "z = float(input(\"Enter the Z : \"));\n",
    "\n",
    "print(\"X = \", x, \", Y = \", y, \", Z = \", z);\n",
    "\n",
    "if (x<y):\n",
    "    if (y>z):\n",
    "        print(y, \"is large number\");\n",
    "    else:\n",
    "        print(z, \"is large number\");\n",
    "else:\n",
    "    if (x>z):\n",
    "        print(x, \"is large number\");\n",
    "    else:\n",
    "        print(z, \"is large number\");"
   ]
  },
  {
   "cell_type": "markdown",
   "metadata": {},
   "source": [
    "### 05) WAP to check whether the given year is leap year or not.\n",
    "[If a year can be divisible by 4 but not divisible by 100 then it is leap year but if it is divisible by 400 then it is leap year]"
   ]
  },
  {
   "cell_type": "code",
   "execution_count": 26,
   "metadata": {},
   "outputs": [
    {
     "name": "stdout",
     "output_type": "stream",
     "text": [
      "2004 is leap year\n"
     ]
    }
   ],
   "source": [
    "year = int(input(\"Enter the year : \"));\n",
    "\n",
    "if (year % 4 == 0 and year % 100 != 0):\n",
    "    print(year, \"is leap year\")\n",
    "elif (year % 400 == 0):\n",
    "    print(year, \"is leap year.\")\n",
    "else:\n",
    "    print(year, \"is not a leap year\");"
   ]
  },
  {
   "cell_type": "markdown",
   "metadata": {},
   "source": [
    "### 06) WAP in python to display the name of the day according to the number given by the user"
   ]
  },
  {
   "cell_type": "code",
   "execution_count": 27,
   "metadata": {},
   "outputs": [
    {
     "name": "stdout",
     "output_type": "stream",
     "text": [
      "Thursday\n"
     ]
    }
   ],
   "source": [
    "number = int(input(\"Enter the Number between 0 - 6 : \"));\n",
    "\n",
    "if (number == 0):\n",
    "    print(\"Sunday\");\n",
    "elif (number == 1):\n",
    "    print(\"Monday\");\n",
    "elif (number == 2):\n",
    "    print(\"Tuesday\");\n",
    "elif (number == 3):\n",
    "    print(\"Wednesday\");\n",
    "elif (number == 4):\n",
    "    print(\"Thursday\");\n",
    "elif (number == 5):\n",
    "    print(\"Friday\");\n",
    "elif (number == 6):\n",
    "    print(\"Saturday\");\n",
    "else:\n",
    "    print(\"Please! Enter the number between 0 to 6.\");\n",
    "    "
   ]
  },
  {
   "cell_type": "markdown",
   "metadata": {},
   "source": [
    "### 07) WAP to implement simple calculator which performs (add,sub,mul,div) of two no. based on user input."
   ]
  },
  {
   "cell_type": "code",
   "execution_count": 4,
   "metadata": {},
   "outputs": [
    {
     "name": "stdout",
     "output_type": "stream",
     "text": [
      "96.0 / 12.0 = 8.0\n"
     ]
    }
   ],
   "source": [
    "x = float(input(\"Enter the value of X : \"));\n",
    "y = float(input(\"Enter the value of Y : \"));\n",
    "\n",
    "op = input(\"Enter the Opertion : \");\n",
    "\n",
    "if (op == \"+\"):\n",
    "    print(x, \"+\", y, \"=\", x+y);\n",
    "elif (op == \"-\"):\n",
    "    print(x, \"-\", y, \"=\", x-y);\n",
    "elif (op == \"*\"):\n",
    "    print(x, \"*\", y, \"=\", x*y);\n",
    "elif (op == \"/\"):\n",
    "    print(x, \"/\", y, \"=\", x/y);\n",
    "else:\n",
    "    print(\"Enter the Operation in ( + , - , * , / ).\");"
   ]
  },
  {
   "cell_type": "markdown",
   "metadata": {},
   "source": [
    "### 08) WAP to calculate electricity bill based on following criteria. Which takes the unit from the user.\n",
    "a. First 1 to 50 units – Rs. 2.60/unit</br>\n",
    "b. Next 50 to 100 units – Rs. 3.25/unit</br>\n",
    "c. Next 100 to 200 units – Rs. 5.26/unit</br>\n",
    "d. above 200 units – Rs. 8.45/unit"
   ]
  },
  {
   "cell_type": "code",
   "execution_count": 22,
   "metadata": {},
   "outputs": [
    {
     "name": "stdout",
     "output_type": "stream",
     "text": [
      "4698.44 RS.\n",
      "you have to pay.\n"
     ]
    }
   ],
   "source": [
    "units = int(input(\"Enter the units : \"));\n",
    "\n",
    "if (units >= 1 and units < 50):\n",
    "    print(units*2.60, \"RS.\");\n",
    "elif (units >= 50 and units < 100):\n",
    "    print(((49*2.60)+(units*3.25)), \"RS.\");\n",
    "elif (units >= 100 and units < 200):\n",
    "    print(((49*2.60)+(99*3.25)+(units*5.26)), \"RS.\");\n",
    "elif (units >= 200):\n",
    "    print(((49*2.60)+(99*3.25)+(199*5.26)+(units*8.45)), \"RS.\");\n",
    "\n",
    "print(\"you have to pay.\");\n"
   ]
  },
  {
   "cell_type": "markdown",
   "metadata": {},
   "source": [
    "### 09) WAP to read marks of five subjects. Calculate percentage and print class accordingly. \n",
    "Fail below 35 </br>\n",
    "Pass Class between 35 to 45 </br>\n",
    "Second Class</br>\n",
    "between 45 to 60</br>\n",
    "First Class between 60 to 70</br> \n",
    "Distinction if more than 70"
   ]
  },
  {
   "cell_type": "code",
   "execution_count": 26,
   "metadata": {},
   "outputs": [
    {
     "name": "stdout",
     "output_type": "stream",
     "text": [
      "Percentage =  72.39999999999999\n",
      "you are distinction class.\n"
     ]
    }
   ],
   "source": [
    "s1 = int(input(\"Enter the marks of subject 1 : \"));\n",
    "s2 = int(input(\"Enter the marks of subject 2 : \"));\n",
    "s3 = int(input(\"Enter the marks of subject 3 : \"));\n",
    "s4 = int(input(\"Enter the marks of subject 4 : \"));\n",
    "s5 = int(input(\"Enter the marks of subject 5 : \"));\n",
    "\n",
    "percentage = float(((s1+s2+s3+s4+s5)/500)*100);\n",
    "\n",
    "print(\"Percentage = \", percentage);\n",
    "\n",
    "if (percentage < 35):\n",
    "    print(\"You are fail.\");\n",
    "elif (percentage >= 35 and percentage < 45):\n",
    "    print(\"You are pass.\");\n",
    "elif (percentage >= 45 and percentage < 60):\n",
    "    print(\"You are second class.\");\n",
    "elif (percentage >= 60 and percentage < 70):\n",
    "    print(\"You are first class.\");\n",
    "elif (percentage >= 70):\n",
    "    print(\"you are distinction class.\");"
   ]
  },
  {
   "cell_type": "markdown",
   "metadata": {},
   "source": [
    "### 10) WAP to find out the Maximum and Minimum number from given 4 numbers."
   ]
  },
  {
   "cell_type": "code",
   "execution_count": 9,
   "metadata": {},
   "outputs": [
    {
     "name": "stdout",
     "output_type": "stream",
     "text": [
      "W =  12.0 , X =  23.0 , Y =  89.0 , Z =  45.0\n",
      "Y is large.\n"
     ]
    }
   ],
   "source": [
    "w = float(input(\"Enter the value of W : \"));\n",
    "x = float(input(\"Enter the value of X : \"));\n",
    "y = float(input(\"Enter the value of Y : \"));\n",
    "z = float(input(\"Enter the value of Z : \"));\n",
    "\n",
    "print(\"W = \", w, \", X = \", x, \", Y = \", y, \", Z = \", z);\n",
    "\n",
    "if (w < x):\n",
    "    if (x > y):\n",
    "        if (x > z ):\n",
    "            print(\"X is large.\");\n",
    "        else:\n",
    "            print(\"Z is large.\");\n",
    "    else:\n",
    "        if (y > z and y > w):\n",
    "            print(\"Y is large.\");\n",
    "        else:\n",
    "            print(\"Z is large.\");\n",
    "else:\n",
    "    if (w > y):\n",
    "        if (w > z):\n",
    "            print(\"W is large.\");\n",
    "        else:\n",
    "            print(\"Z is large.\");\n"
   ]
  },
  {
   "cell_type": "markdown",
   "metadata": {},
   "source": [
    "### 11) WAP to input an integer number and check the last digit of number is even or odd."
   ]
  },
  {
   "cell_type": "code",
   "execution_count": 12,
   "metadata": {},
   "outputs": [
    {
     "name": "stdout",
     "output_type": "stream",
     "text": [
      "Number  =  645436\n",
      "The last digit of this number is even.\n"
     ]
    }
   ],
   "source": [
    "number = int(input(\"Enter the Number : \"));\n",
    "\n",
    "last_digit = number % 10;\n",
    "\n",
    "print(\"Number  = \", number);\n",
    "\n",
    "if (last_digit % 2 == 0):\n",
    "    print(\"The last digit of this number is even.\");\n",
    "else:\n",
    "    print(\"The last digit of this number is odd.\");"
   ]
  },
  {
   "cell_type": "markdown",
   "metadata": {},
   "source": [
    "### 12) WAP to determine the roots of the equation ax2+bx+c=0."
   ]
  },
  {
   "cell_type": "code",
   "execution_count": null,
   "metadata": {},
   "outputs": [],
   "source": [
    "#  case - 01 (discriminant>0) Roots are Real and Different.\t\t\t\t\t\t\t\t\t\t\t\t\t\t\n",
    "# \t\tA: 1\n",
    "# \t\tB: 4\n",
    "# \t\tC: 3\n",
    "# \t\tRoot 1 is : -1.000000\n",
    "# \t\tRoot 2 is : -3.000000\n",
    "\n",
    "\n",
    "#  case - 02 (discriminant=0) Roots are Real and Same.\n",
    "# \t\tA: 1\n",
    "# \t\tB: 2\n",
    "# \t\tC: 1\n",
    "# \t\tRoot 1 & Root 2 is : -1.000000\n",
    "\n",
    "\t\n",
    "#  case - 03 (discriminant<0) Roots are Real and Imaginary.\n",
    "# \t\tA: 2.3\n",
    "# \t\tB: 4\n",
    "# \t\tC: 5.6\n",
    "# \t\tRoot 1 is : -0.870 + 1.296 i\n",
    "# \t\tRoot 2 is : -0.870 - 1.296 i"
   ]
  },
  {
   "cell_type": "code",
   "execution_count": 20,
   "metadata": {},
   "outputs": [
    {
     "name": "stdout",
     "output_type": "stream",
     "text": [
      "A =  1.0 , B =  2.0 , C =  1.0\n",
      "Discriminant =  0.0\n",
      "Root 1 & Root 2 is = -1.0\n"
     ]
    }
   ],
   "source": [
    "import math;\n",
    "\n",
    "a = float(input(\"Enter the value of A : \"));\n",
    "b = float(input(\"Enter the value of B : \"));\n",
    "c = float(input(\"Enter the value of C : \"));\n",
    "\n",
    "print(\"A = \", a, \", B = \", b, \", C = \", c);\n",
    "\n",
    "discriminant = float(math.pow(b, 2)-(4*a*c));\n",
    "\n",
    "print(\"Discriminant = \", discriminant);\n",
    "\n",
    "if (discriminant > 0):\n",
    "    sqrRoot_of_discriminant = math.sqrt(discriminant);\n",
    "    print(\"Root 1 is =\", (-b + sqrRoot_of_discriminant) / 2*a);\n",
    "    print(\"Root 1 is =\", (-b - sqrRoot_of_discriminant) / 2*a);\n",
    "elif (discriminant < 0):\n",
    "    real_root = float(-b / (2*a));\n",
    "    imaginary_root = float(math.sqrt(-discriminant) / (2*a));\n",
    "    print(\"Root 1 is =\", real_root, \"+ i\", imaginary_root);\n",
    "    print(\"Root 2 is =\", real_root, \"- i\", imaginary_root);\n",
    "else:\n",
    "    print(\"Root 1 & Root 2 is =\", (-b / (2*a)));\n",
    "    "
   ]
  }
 ],
 "metadata": {
  "kernelspec": {
   "display_name": "Python 3.11.0 64-bit",
   "language": "python",
   "name": "python3"
  },
  "language_info": {
   "codemirror_mode": {
    "name": "ipython",
    "version": 3
   },
   "file_extension": ".py",
   "mimetype": "text/x-python",
   "name": "python",
   "nbconvert_exporter": "python",
   "pygments_lexer": "ipython3",
   "version": "3.11.0 (main, Oct 24 2022, 18:26:48) [MSC v.1933 64 bit (AMD64)]"
  },
  "vscode": {
   "interpreter": {
    "hash": "3b3be0a231400cdb7a8f4224576745ae5d1d9e5806c337405b2df18ffac8ced6"
   }
  }
 },
 "nbformat": 4,
 "nbformat_minor": 4
}
