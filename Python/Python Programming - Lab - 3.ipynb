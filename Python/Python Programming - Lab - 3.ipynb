{
 "cells": [
  {
   "cell_type": "markdown",
   "metadata": {},
   "source": [
    "\n",
    "<a href='https://www.darshan.ac.in/'> <img src='https://www.darshan.ac.in/Content/media/DU_Logo.svg' width=\"250\" height=\"300\"/></a>\n",
    "<pre>\n",
    "<center><b><h1>Python Programming - 2101CS405</b></center>\n",
    "<center><b><h1>Lab - 3</b></center>    \n",
    "<pre>"
   ]
  },
  {
   "cell_type": "markdown",
   "metadata": {},
   "source": [
    "# for and while loop"
   ]
  },
  {
   "cell_type": "markdown",
   "metadata": {},
   "source": [
    "### 01) WAP to print 1 to 10"
   ]
  },
  {
   "cell_type": "code",
   "execution_count": 1,
   "metadata": {},
   "outputs": [
    {
     "name": "stdout",
     "output_type": "stream",
     "text": [
      "1\n",
      "2\n",
      "3\n",
      "4\n",
      "5\n",
      "6\n",
      "7\n",
      "8\n",
      "9\n",
      "10\n"
     ]
    }
   ],
   "source": [
    "for i in range(1, 11):\n",
    "    print(i);"
   ]
  },
  {
   "cell_type": "markdown",
   "metadata": {},
   "source": [
    "### 02) WAP to print 1 to n"
   ]
  },
  {
   "cell_type": "code",
   "execution_count": 2,
   "metadata": {},
   "outputs": [
    {
     "name": "stdout",
     "output_type": "stream",
     "text": [
      "Enter the Number : 25\n",
      "1\n",
      "2\n",
      "3\n",
      "4\n",
      "5\n",
      "6\n",
      "7\n",
      "8\n",
      "9\n",
      "10\n",
      "11\n",
      "12\n",
      "13\n",
      "14\n",
      "15\n",
      "16\n",
      "17\n",
      "18\n",
      "19\n",
      "20\n",
      "21\n",
      "22\n",
      "23\n",
      "24\n",
      "25\n"
     ]
    }
   ],
   "source": [
    "n = int(input(\"Enter the Number : \"));\n",
    "\n",
    "for i in range(1, n+1):\n",
    "    print(i);"
   ]
  },
  {
   "cell_type": "markdown",
   "metadata": {},
   "source": [
    "### 03) WAP to print odd numbers between 1 to n"
   ]
  },
  {
   "cell_type": "code",
   "execution_count": 3,
   "metadata": {},
   "outputs": [
    {
     "name": "stdout",
     "output_type": "stream",
     "text": [
      "Enter the Number : 20\n",
      "1\n",
      "3\n",
      "5\n",
      "7\n",
      "9\n",
      "11\n",
      "13\n",
      "15\n",
      "17\n",
      "19\n"
     ]
    }
   ],
   "source": [
    "n = int(input(\"Enter the Number : \"));\n",
    "\n",
    "for i in range(1, n+1):\n",
    "    if (i%2 != 0):\n",
    "        print(i);"
   ]
  },
  {
   "cell_type": "markdown",
   "metadata": {},
   "source": [
    "### 04) WAP to print numbers between two given numbers which is divisible by 2 but not divisible by 3"
   ]
  },
  {
   "cell_type": "code",
   "execution_count": 4,
   "metadata": {},
   "outputs": [
    {
     "name": "stdout",
     "output_type": "stream",
     "text": [
      "Enter the Starting Point : 10\n",
      "Enter the Ending Point : 25\n",
      "10\n",
      "14\n",
      "16\n",
      "20\n",
      "22\n"
     ]
    }
   ],
   "source": [
    "start = int(input(\"Enter the Starting Point : \"));\n",
    "end = int(input(\"Enter the Ending Point : \"));\n",
    "\n",
    "for i in range(start, end):\n",
    "    if (i%2 == 0 and i%3 != 0):\n",
    "        print(i);"
   ]
  },
  {
   "cell_type": "markdown",
   "metadata": {},
   "source": [
    "### 05) WAP to print sum of 1 to n numbers"
   ]
  },
  {
   "cell_type": "code",
   "execution_count": 5,
   "metadata": {},
   "outputs": [
    {
     "name": "stdout",
     "output_type": "stream",
     "text": [
      "Enter the Number : 10\n",
      "Sum =  55\n"
     ]
    }
   ],
   "source": [
    "n = int(input(\"Enter the Number : \"));\n",
    "\n",
    "sum=0;\n",
    "for i in range(1, n+1):\n",
    "   sum += i;\n",
    "\n",
    "print(\"Sum = \", sum);"
   ]
  },
  {
   "cell_type": "markdown",
   "metadata": {},
   "source": [
    "### 06) WAP to print sum of series 1 + 4 + 9 + 16 + 25 + 36 + ...n"
   ]
  },
  {
   "cell_type": "code",
   "execution_count": 7,
   "metadata": {},
   "outputs": [
    {
     "name": "stdout",
     "output_type": "stream",
     "text": [
      "Enter the Number : 4\n",
      "Sum =  30\n"
     ]
    }
   ],
   "source": [
    "n = int(input(\"Enter the Number : \"));\n",
    "\n",
    "sum=0;\n",
    "for i in range(1, n+1):\n",
    "   sum += i*i;\n",
    "\n",
    "print(\"Sum = \", sum);"
   ]
  },
  {
   "cell_type": "markdown",
   "metadata": {},
   "source": [
    "### 07) WAP to print sum of series 1 – 2 + 3 – 4 + 5 – 6 + 7 ... n"
   ]
  },
  {
   "cell_type": "code",
   "execution_count": 9,
   "metadata": {},
   "outputs": [
    {
     "name": "stdout",
     "output_type": "stream",
     "text": [
      "Enter the Number : 5\n",
      "Sum =  3\n"
     ]
    }
   ],
   "source": [
    "n = int(input(\"Enter the Number : \"));\n",
    "\n",
    "ans=0;\n",
    "for i in range(1, n+1):\n",
    "    if (i%2 == 0):\n",
    "        ans -= i;\n",
    "    else:\n",
    "        ans += i;\n",
    "        \n",
    "print(\"Sum = \", ans);"
   ]
  },
  {
   "cell_type": "markdown",
   "metadata": {},
   "source": [
    "### 08) WAP to print multiplication table of given number."
   ]
  },
  {
   "cell_type": "code",
   "execution_count": 11,
   "metadata": {},
   "outputs": [
    {
     "name": "stdout",
     "output_type": "stream",
     "text": [
      "Enter the Number : 14\n",
      "14 * 1 = 14\n",
      "14 * 2 = 28\n",
      "14 * 3 = 42\n",
      "14 * 4 = 56\n",
      "14 * 5 = 70\n",
      "14 * 6 = 84\n",
      "14 * 7 = 98\n",
      "14 * 8 = 112\n",
      "14 * 9 = 126\n",
      "14 * 10 = 140\n"
     ]
    }
   ],
   "source": [
    "n = int(input(\"Enter the Number : \"));\n",
    "\n",
    "for i in range(1, 11):\n",
    "    print(n,\"*\", i, \"=\", n*i);"
   ]
  },
  {
   "cell_type": "markdown",
   "metadata": {},
   "source": [
    "### 09) WAP to find factorial of the given number"
   ]
  },
  {
   "cell_type": "code",
   "execution_count": 12,
   "metadata": {},
   "outputs": [
    {
     "name": "stdout",
     "output_type": "stream",
     "text": [
      "Enter the Number : 5\n",
      "Factorial :  120\n"
     ]
    }
   ],
   "source": [
    "n = int(input(\"Enter the Number : \"));\n",
    "\n",
    "factorial = 1;\n",
    "for i in range(1, n+1):\n",
    "    factorial *= i;\n",
    "    \n",
    "print(\"Factorial : \", factorial);"
   ]
  },
  {
   "cell_type": "markdown",
   "metadata": {},
   "source": [
    "### 10) WAP to find factors of the given number"
   ]
  },
  {
   "cell_type": "code",
   "execution_count": 4,
   "metadata": {},
   "outputs": [
    {
     "name": "stdout",
     "output_type": "stream",
     "text": [
      "Enter the Number : 45\n",
      "1, 3, 5, 9, 15, "
     ]
    }
   ],
   "source": [
    "n = int(input(\"Enter the Number : \"));\n",
    "\n",
    "for i in range(1, int(n/2+1)):\n",
    "    if (n%i == 0):\n",
    "        print(i, end=\", \");\n",
    "    "
   ]
  },
  {
   "cell_type": "markdown",
   "metadata": {},
   "source": [
    "### 11) WAP to find whether the given number is prime or not."
   ]
  },
  {
   "cell_type": "code",
   "execution_count": 21,
   "metadata": {},
   "outputs": [
    {
     "name": "stdout",
     "output_type": "stream",
     "text": [
      "Enter the Number : 13\n",
      "This is Prime Number\n"
     ]
    }
   ],
   "source": [
    "n = int(input(\"Enter the Number : \"));\n",
    "\n",
    "for i in range(2, int(n/2+1)):\n",
    "    if (n%i == 0):\n",
    "        print(\"This Number is Not Prime\");\n",
    "        break;\n",
    "else:\n",
    "    print(\"This is Prime Number\");"
   ]
  },
  {
   "cell_type": "markdown",
   "metadata": {},
   "source": [
    "### 12) WAP to print sum of digits of given number"
   ]
  },
  {
   "cell_type": "code",
   "execution_count": 22,
   "metadata": {},
   "outputs": [
    {
     "name": "stdout",
     "output_type": "stream",
     "text": [
      "Enter the Number : 123\n",
      "Sum =  6\n"
     ]
    }
   ],
   "source": [
    "n = int(input(\"Enter the Number : \"));\n",
    "\n",
    "sum = 0;\n",
    "for i in str(n):\n",
    "    sum += int(i);\n",
    "    \n",
    "print(\"Sum = \", sum);\n",
    "    "
   ]
  },
  {
   "cell_type": "markdown",
   "metadata": {},
   "source": [
    "### 13) WAP to check whether the given number is palindrome or not"
   ]
  },
  {
   "cell_type": "code",
   "execution_count": 29,
   "metadata": {},
   "outputs": [
    {
     "name": "stdout",
     "output_type": "stream",
     "text": [
      "Enter the Number : 123321\n",
      "it is palindrome.\n"
     ]
    }
   ],
   "source": [
    "\n",
    "x = 0;\n",
    "i = n\n",
    "while i > 0:\n",
    "    x = (x*10) + (i%10);\n",
    "    i = int(i/10);\n",
    "    \n",
    "if (n == x):\n",
    "    print(\"it is palindrome.\");\n",
    "else:\n",
    "    print(\"it is not palindrome.\");\n",
    "    "
   ]
  },
  {
   "cell_type": "markdown",
   "metadata": {},
   "source": [
    "### 01) WAP to check whether the given number is Armstrong or not."
   ]
  },
  {
   "cell_type": "code",
   "execution_count": 36,
   "metadata": {},
   "outputs": [
    {
     "name": "stdout",
     "output_type": "stream",
     "text": [
      "Enter the Number : 1634\n",
      "it is armstrong number.\n"
     ]
    }
   ],
   "source": [
    "import math;\n",
    "\n",
    "n = int(input(\"Enter the Number : \"));\n",
    "\n",
    "temp = n;\n",
    "length = len(str(n));\n",
    "sum = 0;\n",
    "\n",
    "while n > 0:\n",
    "    rem = n%10;\n",
    "    sum += (rem ** length);\n",
    "    n = int(n/10);\n",
    "    \n",
    "if (sum == temp):\n",
    "    print(\"it is armstrong number.\");\n",
    "else:\n",
    "    print(\"it is not a armstrong nuumber.\");\n"
   ]
  },
  {
   "cell_type": "markdown",
   "metadata": {},
   "source": [
    "### 02) WAP to find out prime numbers between given two numbers."
   ]
  },
  {
   "cell_type": "code",
   "execution_count": 38,
   "metadata": {},
   "outputs": [
    {
     "name": "stdout",
     "output_type": "stream",
     "text": [
      "Enter the Starting Point : 5\n",
      "Enter the Ending Point : 15\n",
      "5 7 11 13 "
     ]
    }
   ],
   "source": [
    "start = int(input(\"Enter the Starting Point : \"));\n",
    "end = int(input(\"Enter the Ending Point : \"));\n",
    "\n",
    "for i in range(start, end+1):\n",
    "    for j in range(2, int(i/2+1)):\n",
    "        if (i%j == 0):\n",
    "            break;\n",
    "    else:\n",
    "        print(i, end=\" \");"
   ]
  },
  {
   "cell_type": "markdown",
   "metadata": {},
   "source": [
    "### 03) WAP to calculate x^y without using any function."
   ]
  },
  {
   "cell_type": "code",
   "execution_count": 5,
   "metadata": {},
   "outputs": [
    {
     "name": "stdout",
     "output_type": "stream",
     "text": [
      "Enter the Number : 2\n",
      "Enter the Power : 5\n",
      "2 ^ 5 = 32\n"
     ]
    }
   ],
   "source": [
    "\n",
    "x = int(input(\"Enter the Number : \"));\n",
    "y = int(input(\"Enter the Power : \"));\n",
    "\n",
    "square = 1;\n",
    "for i in range(1, y+1):\n",
    "    square *= x;\n",
    "\n",
    "print(x, \"^\", y, \"=\", square);"
   ]
  },
  {
   "cell_type": "markdown",
   "metadata": {},
   "source": [
    "### 04) WAP to check whether the given number is perfect or not.\n",
    "[Sum of factors including 1 excluding number itself]"
   ]
  },
  {
   "cell_type": "code",
   "execution_count": 6,
   "metadata": {},
   "outputs": [
    {
     "name": "stdout",
     "output_type": "stream",
     "text": [
      "Enter the Number : 28\n",
      "28 is perfect number.\n"
     ]
    }
   ],
   "source": [
    "n = int(input(\"Enter the Number : \"));\n",
    "\n",
    "perfect = 0;\n",
    "for i in range(1, int(n/2+1)):\n",
    "    if (n%i == 0):\n",
    "        perfect += i;\n",
    "\n",
    "if (perfect == n):\n",
    "    print(n, \"is perfect number.\");\n",
    "else:\n",
    "    print(n, \"is not perfect number.\");"
   ]
  },
  {
   "cell_type": "markdown",
   "metadata": {},
   "source": [
    "### 05) WAP to find the sum of 1 + (1+2) + (1+2+3) + (1+2+3+4)+...+(1+2+3+4+....+n)"
   ]
  },
  {
   "cell_type": "code",
   "execution_count": 8,
   "metadata": {},
   "outputs": [
    {
     "name": "stdout",
     "output_type": "stream",
     "text": [
      "Enter the =Number : 5\n",
      "Sum = 35\n"
     ]
    }
   ],
   "source": [
    "n = int(input(\"Enter the =Number : \"))\n",
    "\n",
    "sum = 0\n",
    "for i in range(1,n+1):\n",
    "    for j in range(1,i+1):\n",
    "        sum += j\n",
    "print(\"Sum =\",sum)"
   ]
  },
  {
   "cell_type": "markdown",
   "metadata": {},
   "source": [
    "### 06) WAP to print Multiplication Table up to n"
   ]
  },
  {
   "cell_type": "code",
   "execution_count": 9,
   "metadata": {},
   "outputs": [
    {
     "name": "stdout",
     "output_type": "stream",
     "text": [
      "Enter the Number : 13\n",
      "Enter the End Point: 14\n",
      "13 * 1 = 13\n",
      "13 * 2 = 26\n",
      "13 * 3 = 39\n",
      "13 * 4 = 52\n",
      "13 * 5 = 65\n",
      "13 * 6 = 78\n",
      "13 * 7 = 91\n",
      "13 * 8 = 104\n",
      "13 * 9 = 117\n",
      "13 * 10 = 130\n",
      "13 * 11 = 143\n",
      "13 * 12 = 156\n",
      "13 * 13 = 169\n",
      "13 * 14 = 182\n"
     ]
    }
   ],
   "source": [
    "n = int(input(\"Enter the Number : \"))\n",
    "end = int(input(\"Enter the End Point: \"))\n",
    "\n",
    "for i in range(1,end+1):\n",
    "    print(n,\"*\",i,\"=\",n*i)"
   ]
  }
 ],
 "metadata": {
  "kernelspec": {
   "display_name": "Python 3 (ipykernel)",
   "language": "python",
   "name": "python3"
  },
  "language_info": {
   "codemirror_mode": {
    "name": "ipython",
    "version": 3
   },
   "file_extension": ".py",
   "mimetype": "text/x-python",
   "name": "python",
   "nbconvert_exporter": "python",
   "pygments_lexer": "ipython3",
   "version": "3.9.13"
  },
  "vscode": {
   "interpreter": {
    "hash": "3b3be0a231400cdb7a8f4224576745ae5d1d9e5806c337405b2df18ffac8ced6"
   }
  }
 },
 "nbformat": 4,
 "nbformat_minor": 4
}
