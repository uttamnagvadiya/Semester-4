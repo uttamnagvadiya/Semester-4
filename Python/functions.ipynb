{
 "cells": [
  {
   "cell_type": "markdown",
   "id": "4ffcc348",
   "metadata": {},
   "source": [
    "### Random Module"
   ]
  },
  {
   "cell_type": "code",
   "execution_count": 1,
   "id": "3beacf86",
   "metadata": {},
   "outputs": [
    {
     "name": "stdout",
     "output_type": "stream",
     "text": [
      "0.6303511301820608\n"
     ]
    }
   ],
   "source": [
    "import random\n",
    "print(random.random())"
   ]
  },
  {
   "cell_type": "code",
   "execution_count": 11,
   "id": "6469a2a2",
   "metadata": {},
   "outputs": [
    {
     "name": "stdout",
     "output_type": "stream",
     "text": [
      "0.23796462709189137\n"
     ]
    }
   ],
   "source": [
    "random.seed(3)\n",
    "print(random.random())"
   ]
  },
  {
   "cell_type": "code",
   "execution_count": 25,
   "id": "dec445b9",
   "metadata": {},
   "outputs": [
    {
     "name": "stdout",
     "output_type": "stream",
     "text": [
      "30\n"
     ]
    }
   ],
   "source": [
    "print(random.randint(1, 100))"
   ]
  },
  {
   "cell_type": "code",
   "execution_count": 32,
   "id": "1fb8b3f6",
   "metadata": {},
   "outputs": [
    {
     "name": "stdout",
     "output_type": "stream",
     "text": [
      "15\n"
     ]
    }
   ],
   "source": [
    "print(random.randrange(0, 30, 5))"
   ]
  },
  {
   "cell_type": "code",
   "execution_count": 56,
   "id": "2a036f3a",
   "metadata": {},
   "outputs": [
    {
     "name": "stdout",
     "output_type": "stream",
     "text": [
      "65\n",
      "[65, 65]\n"
     ]
    }
   ],
   "source": [
    "l1 = [12,45,65,897,65,65,]\n",
    "\n",
    "print(random.choice(l1))\n",
    "print(random.sample(l1, 2))"
   ]
  },
  {
   "cell_type": "code",
   "execution_count": 68,
   "id": "9cbc1b8c",
   "metadata": {},
   "outputs": [
    {
     "name": "stdout",
     "output_type": "stream",
     "text": [
      "[45, 65, 65, 12, 897, 65]\n"
     ]
    }
   ],
   "source": [
    "random.shuffle(l1)\n",
    "print(l1)"
   ]
  },
  {
   "cell_type": "code",
   "execution_count": 79,
   "id": "1eb83ab1",
   "metadata": {},
   "outputs": [
    {
     "name": "stdout",
     "output_type": "stream",
     "text": [
      "8.578106918842927\n"
     ]
    }
   ],
   "source": [
    "print(random.uniform(5, 10))"
   ]
  },
  {
   "cell_type": "markdown",
   "id": "14f4e6ff",
   "metadata": {},
   "source": [
    "### Math Module"
   ]
  },
  {
   "cell_type": "code",
   "execution_count": 84,
   "id": "e39498cd",
   "metadata": {},
   "outputs": [
    {
     "name": "stdout",
     "output_type": "stream",
     "text": [
      "2.718281828459045\n",
      "3.141592653589793\n",
      "6.283185307179586\n"
     ]
    }
   ],
   "source": [
    "import math\n",
    "\n",
    "print(math.e)\n",
    "print(math.pi)\n",
    "print(math.tau)"
   ]
  },
  {
   "cell_type": "code",
   "execution_count": 89,
   "id": "5b447106",
   "metadata": {},
   "outputs": [
    {
     "name": "stdout",
     "output_type": "stream",
     "text": [
      "6\n",
      "5\n",
      "120\n",
      "1\n",
      "195\n"
     ]
    }
   ],
   "source": [
    "print(math.ceil(5.6))\n",
    "print(math.floor(5.6))\n",
    "print(math.factorial(5))\n",
    "print(math.gcd(15, 13))\n",
    "print(math.lcm(15, 13))"
   ]
  },
  {
   "cell_type": "code",
   "execution_count": 105,
   "id": "632dde5f",
   "metadata": {},
   "outputs": [
    {
     "name": "stdout",
     "output_type": "stream",
     "text": [
      "54.0\n",
      "20.085536923187668\n",
      "8.0\n",
      "1.0\n",
      "0.3010299956639812\n",
      "3.0\n",
      "0.8509035245341184\n",
      "0.5253219888177297\n",
      "1.6197751905438615\n",
      "1.5707963267948966\n",
      "90.0\n",
      "6.082818640342675e+62\n"
     ]
    }
   ],
   "source": [
    "print(math.fabs(-54))\n",
    "print(math.exp(3))\n",
    "print(math.pow(2,3))\n",
    "print(math.log2(2))\n",
    "print(math.log10(2))\n",
    "print(math.sqrt(9))\n",
    "print(math.sin(45))\n",
    "print(math.cos(45))\n",
    "print(math.tan(45))\n",
    "print(math.radians(90))\n",
    "print(math.degrees(1.5707963267948966))\n",
    "print(math.gamma(50))"
   ]
  },
  {
   "cell_type": "markdown",
   "id": "6b7c276d",
   "metadata": {},
   "source": [
    "### Data and Time Module"
   ]
  },
  {
   "cell_type": "code",
   "execution_count": 1,
   "id": "f21130ef",
   "metadata": {},
   "outputs": [
    {
     "name": "stdout",
     "output_type": "stream",
     "text": [
      "2023-01-05\n",
      "23\n",
      "2\n",
      "2023\n"
     ]
    }
   ],
   "source": [
    "import datetime\n",
    "\n",
    "print(datetime.date(2023,1,5))\n",
    "\n",
    "today = datetime.date.today()\n",
    "print(today.day)\n",
    "print(today.month)\n",
    "print(today.year)"
   ]
  },
  {
   "cell_type": "code",
   "execution_count": 116,
   "id": "50603220",
   "metadata": {},
   "outputs": [
    {
     "name": "stdout",
     "output_type": "stream",
     "text": [
      "10:30:05.000003\n",
      "10\n",
      "30\n",
      "5\n",
      "3\n"
     ]
    }
   ],
   "source": [
    "t = datetime.time(10, 30, 5, 3)\n",
    "print(t)\n",
    "print(t.hour)\n",
    "print(t.minute)\n",
    "print(t.second)\n",
    "print(t.microsecond)"
   ]
  },
  {
   "cell_type": "code",
   "execution_count": 119,
   "id": "0a51c1b0",
   "metadata": {},
   "outputs": [
    {
     "name": "stdout",
     "output_type": "stream",
     "text": [
      "2023-01-23 21:35:45.000010\n",
      "2023-02-16 12:43:40.917126\n"
     ]
    }
   ],
   "source": [
    "t = datetime.datetime(2023, 1, 23, 21, 35, 45, 10)\n",
    "print(t)\n",
    "\n",
    "print(datetime.datetime.now())"
   ]
  },
  {
   "cell_type": "code",
   "execution_count": 125,
   "id": "68aadd79",
   "metadata": {},
   "outputs": [
    {
     "name": "stdout",
     "output_type": "stream",
     "text": [
      "2023-03-02 12:56:27.532606\n",
      "Thursday\n",
      "Thu\n",
      "56\n",
      "03\n",
      "2023\n",
      "23\n"
     ]
    }
   ],
   "source": [
    "x = datetime.datetime.now() + datetime.timedelta(weeks=2)\n",
    "print(x)\n",
    "\n",
    "print(x.strftime(\"%A\"))\n",
    "print(x.strftime(\"%a\"))\n",
    "print(x.strftime(\"%M\"))\n",
    "print(x.strftime(\"%m\"))\n",
    "print(x.strftime(\"%Y\"))\n",
    "print(x.strftime(\"%y\"))"
   ]
  },
  {
   "cell_type": "code",
   "execution_count": null,
   "id": "76e8bcd5",
   "metadata": {},
   "outputs": [],
   "source": []
  }
 ],
 "metadata": {
  "kernelspec": {
   "display_name": "Python 3 (ipykernel)",
   "language": "python",
   "name": "python3"
  },
  "language_info": {
   "codemirror_mode": {
    "name": "ipython",
    "version": 3
   },
   "file_extension": ".py",
   "mimetype": "text/x-python",
   "name": "python",
   "nbconvert_exporter": "python",
   "pygments_lexer": "ipython3",
   "version": "3.9.12"
  }
 },
 "nbformat": 4,
 "nbformat_minor": 5
}
