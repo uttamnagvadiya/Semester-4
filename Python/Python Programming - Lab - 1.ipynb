{
 "cells": [
  {
   "cell_type": "markdown",
   "metadata": {},
   "source": [
    "<a href='https://www.darshan.ac.in/'> <img src='https://www.darshan.ac.in/Content/media/DU_Logo.svg' width=\"250\" height=\"300\"/></a>\n",
    "<pre>\n",
    "<center><b><h1>Python Programming - 2101CS405</b></center>\n",
    "<center><b><h1>Lab - 1</b></center>    \n",
    "<pre>"
   ]
  },
  {
   "cell_type": "markdown",
   "metadata": {},
   "source": [
    "### 01) WAP to print “Hello World”"
   ]
  },
  {
   "cell_type": "code",
   "execution_count": 1,
   "metadata": {},
   "outputs": [
    {
     "name": "stdout",
     "output_type": "stream",
     "text": [
      "Hello World\n"
     ]
    }
   ],
   "source": [
    "print(\"Hello World\");"
   ]
  },
  {
   "cell_type": "markdown",
   "metadata": {},
   "source": [
    "### 02) WAP to print your address i) using single print ii) using multiple print"
   ]
  },
  {
   "cell_type": "code",
   "execution_count": 9,
   "metadata": {},
   "outputs": [
    {
     "name": "stdout",
     "output_type": "stream",
     "text": [
      "Darshan University\n",
      "Morbi Highway, Hadala, Rajkot.\n",
      "===========\n",
      "Darshan University\n",
      "Morbi Highway, Hadala, Rajkot\n"
     ]
    }
   ],
   "source": [
    "print(\"Darshan University\\nMorbi Highway, Hadala, Rajkot.\");\n",
    "print(\"===========\")\n",
    "print(\"Darshan University\");\n",
    "print(\"Morbi Highway, Hadala, Rajkot\");"
   ]
  },
  {
   "cell_type": "markdown",
   "metadata": {},
   "source": [
    "### 03) WAP to print addition of 2 numbers (without input function)"
   ]
  },
  {
   "cell_type": "code",
   "execution_count": 4,
   "metadata": {},
   "outputs": [
    {
     "name": "stdout",
     "output_type": "stream",
     "text": [
      "121\n"
     ]
    }
   ],
   "source": [
    "print(56+65);"
   ]
  },
  {
   "cell_type": "markdown",
   "metadata": {},
   "source": [
    "### 04) WAP to calculate and print average of 2 numbers (without input function)"
   ]
  },
  {
   "cell_type": "code",
   "execution_count": 6,
   "metadata": {
    "scrolled": true
   },
   "outputs": [
    {
     "name": "stdout",
     "output_type": "stream",
     "text": [
      "2011.0\n"
     ]
    }
   ],
   "source": [
    "print((123+456+789)/3);"
   ]
  },
  {
   "cell_type": "markdown",
   "metadata": {},
   "source": [
    " ### 05) WAP to add two number entered by user."
   ]
  },
  {
   "cell_type": "code",
   "execution_count": 7,
   "metadata": {},
   "outputs": [
    {
     "name": "stdout",
     "output_type": "stream",
     "text": [
      "Enter the X : 1\n",
      "Enter the Y : 23\n",
      "24\n"
     ]
    }
   ],
   "source": [
    "x = int(input(\"Enter the X : \"));\n",
    "y = int(input(\"Enter the Y : \"));\n",
    "\n",
    "print(x+y);"
   ]
  },
  {
   "cell_type": "markdown",
   "metadata": {},
   "source": [
    "### 06) WAP to calculate simple interest."
   ]
  },
  {
   "cell_type": "code",
   "execution_count": 8,
   "metadata": {},
   "outputs": [
    {
     "name": "stdout",
     "output_type": "stream",
     "text": [
      "Enter the Principal : 13\n",
      "Enter the Rate : 654\n",
      "Enter the Time Period: 3\n",
      "255.06\n"
     ]
    }
   ],
   "source": [
    "p = int(input(\"Enter the Principal : \"));\n",
    "r = int(input(\"Enter the Rate : \"));\n",
    "n = int(input(\"Enter the Time Period: \"));\n",
    "\n",
    "print((p*r*n)/100);"
   ]
  },
  {
   "cell_type": "markdown",
   "metadata": {},
   "source": [
    "### 07) WAP Calculate Area and Circumfrence of Circle"
   ]
  },
  {
   "cell_type": "code",
   "execution_count": 10,
   "metadata": {},
   "outputs": [
    {
     "name": "stdout",
     "output_type": "stream",
     "text": [
      "Enter the Radius : 5\n",
      "78.5\n"
     ]
    }
   ],
   "source": [
    "r = int(input(\"Enter the Radius : \"));\n",
    "\n",
    "print(3.14*r*r);"
   ]
  },
  {
   "cell_type": "markdown",
   "metadata": {},
   "source": [
    "### 08) WAP to print Multiplication table of given number without using loops."
   ]
  },
  {
   "cell_type": "code",
   "execution_count": 17,
   "metadata": {},
   "outputs": [
    {
     "name": "stdout",
     "output_type": "stream",
     "text": [
      "Enter the Number: 45\n",
      "45  *  1  =  45\n",
      "45  *  2  =  90\n",
      "45  *  3  =  135\n",
      "45  *  4  =  180\n",
      "45  *  5  =  225\n",
      "45  *  6  =  270\n",
      "45  *  7  =  315\n",
      "45  *  8  =  360\n",
      "45  *  9  =  405\n",
      "45  *  10  =  450\n"
     ]
    }
   ],
   "source": [
    "n = int(input(\"Enter the Number: \"))\n",
    "\n",
    "print(n,\" * \", 1, \" = \", n*1);\n",
    "print(n,\" * \", 2, \" = \", n*2);\n",
    "print(n,\" * \", 3, \" = \", n*3);\n",
    "print(n,\" * \", 4, \" = \", n*4);\n",
    "print(n,\" * \", 5, \" = \", n*5);\n",
    "print(n,\" * \", 6, \" = \", n*6);\n",
    "print(n,\" * \", 7, \" = \", n*7);\n",
    "print(n,\" * \", 8, \" = \", n*8);\n",
    "print(n,\" * \", 9, \" = \", n*9);\n",
    "print(n,\" * \", 10, \" = \", n*10);"
   ]
  },
  {
   "cell_type": "markdown",
   "metadata": {},
   "source": [
    "### 09) WAP to calculate Area of Triangle (hint: a = h * b * 0.5)"
   ]
  },
  {
   "cell_type": "code",
   "execution_count": 16,
   "metadata": {},
   "outputs": [
    {
     "name": "stdout",
     "output_type": "stream",
     "text": [
      "Enter the width : 45\n",
      "Enter the height : 12\n",
      "a =  270.0\n"
     ]
    }
   ],
   "source": [
    "b = int(input(\"Enter the width : \"));\n",
    "h = int(input(\"Enter the height : \"));\n",
    "\n",
    "print(\"a = \", h*b*0.5);"
   ]
  },
  {
   "cell_type": "markdown",
   "metadata": {},
   "source": [
    "### 10) WAP to convert degree to Fahrenheit and vice versa."
   ]
  },
  {
   "cell_type": "code",
   "execution_count": 18,
   "metadata": {},
   "outputs": [
    {
     "name": "stdout",
     "output_type": "stream",
     "text": [
      "Enter the Temp in Degree : 45\n",
      "Celsius =  7.222222222222222\n",
      "Enter the Temp in Degree : 65\n",
      "Fahrenheit =  149.0\n"
     ]
    }
   ],
   "source": [
    "f = float(input(\"Enter the Temp in Fahrenheit : \"));\n",
    "\n",
    "c = 5/9*(float(f)-32);\n",
    "print(\"Celsius = \", c);\n",
    "\n",
    "c = float(input(\"Enter the Temp in Celsius : \"));\n",
    "\n",
    "f = (float(c)*9/5)+32;\n",
    "print(\"Fahrenheit = \", f);\n",
    "\n"
   ]
  },
  {
   "cell_type": "markdown",
   "metadata": {},
   "source": [
    "### 11) WAP to calculate total marks and Percentage."
   ]
  },
  {
   "cell_type": "code",
   "execution_count": 20,
   "metadata": {},
   "outputs": [
    {
     "name": "stdout",
     "output_type": "stream",
     "text": [
      "Enter the Marks of Subject 1 : 45\n",
      "Enter the Marks of Subject 2 : 96\n",
      "Enter the Marks of Subject 3 : 56\n",
      "Enter the Marks of Subject 4 : 78\n",
      "Enter the Marks of Subject 5 : 35\n",
      "Percentage =  62.0\n"
     ]
    }
   ],
   "source": [
    "s1 = int(input(\"Enter the Marks of Subject 1 : \"));\n",
    "s2 = int(input(\"Enter the Marks of Subject 2 : \"));\n",
    "s3 = int(input(\"Enter the Marks of Subject 3 : \"));\n",
    "s4 = int(input(\"Enter the Marks of Subject 4 : \"));\n",
    "s5 = int(input(\"Enter the Marks of Subject 5 : \"));\n",
    "\n",
    "percentage = float(((s1+s2+s3+s4+s5)/500)*100);\n",
    "print(\"Percentage = \", percentage);"
   ]
  },
  {
   "cell_type": "markdown",
   "metadata": {},
   "source": [
    "### 12) Compute distance between two points taking input from the user (Pythagorean Theorem)."
   ]
  },
  {
   "cell_type": "code",
   "execution_count": 22,
   "metadata": {},
   "outputs": [
    {
     "name": "stdout",
     "output_type": "stream",
     "text": [
      "Enter the Marks of X1 : 55\n",
      "Enter the Marks of X2 : 35\n",
      "Enter the Marks of Y1 : 54\n",
      "Enter the Marks of Y2 : 45\n",
      "Distance between points =  21.93171219946131\n"
     ]
    }
   ],
   "source": [
    "import math;\n",
    "\n",
    "x1 = int(input(\"Enter the Marks of X1 : \"));\n",
    "x2 = int(input(\"Enter the Marks of X2 : \"));\n",
    "y1 = int(input(\"Enter the Marks of Y1 : \"));\n",
    "y2 = int(input(\"Enter the Marks of Y2 : \"));\n",
    "\n",
    "distance = float(math.sqrt(math.pow(x1-x2, 2)+math.pow(y1-y2, 2)));\n",
    "\n",
    "print(\"Distance between points = \", distance);"
   ]
  },
  {
   "cell_type": "markdown",
   "metadata": {},
   "source": [
    "### 13) WAP to convert seconds into hours, minutes & seconds and print in HH:MM:SS\n",
    "[e.g. 10000 seconds mean 2:46:40 (2 Hours, 46 Minutes, 40Seconds)]"
   ]
  },
  {
   "cell_type": "code",
   "execution_count": 27,
   "metadata": {},
   "outputs": [
    {
     "name": "stdout",
     "output_type": "stream",
     "text": [
      "Enter the seconds : 10000\n",
      "2  :  46  :  40\n"
     ]
    }
   ],
   "source": [
    "seconds = int(input(\"Enter the seconds : \"));\n",
    "\n",
    "hour = int(seconds / 3600);\n",
    "minute = (seconds % 3600) // 60;\n",
    "second = (seconds % 3600) % 60\n",
    "\n",
    "print(hour, \" : \", minute, \" : \", second);"
   ]
  },
  {
   "cell_type": "markdown",
   "metadata": {},
   "source": [
    "### 14) WAP to enter distance into kilometer and convert it into meter, feet,inches, and centimeter"
   ]
  },
  {
   "cell_type": "code",
   "execution_count": 28,
   "metadata": {},
   "outputs": [
    {
     "name": "stdout",
     "output_type": "stream",
     "text": [
      "Enter the distance in kilometer : 4500\n",
      "Meter  =  4500000\n",
      "Feet =  14763780.0\n",
      "Inches =  177165450.0\n",
      "Centimete =  450000000\n"
     ]
    }
   ],
   "source": [
    "kilometer = int(input(\"Enter the distance in kilometer : \"));\n",
    "\n",
    "print(\"Meter  = \", kilometer*1000);\n",
    "print(\"Feet = \", kilometer*3280.84);\n",
    "print(\"Inches = \", kilometer*39370.1);\n",
    "print(\"Centimete = \", kilometer*100000);"
   ]
  }
 ],
 "metadata": {
  "kernelspec": {
   "display_name": "Python 3 (ipykernel)",
   "language": "python",
   "name": "python3"
  },
  "language_info": {
   "codemirror_mode": {
    "name": "ipython",
    "version": 3
   },
   "file_extension": ".py",
   "mimetype": "text/x-python",
   "name": "python",
   "nbconvert_exporter": "python",
   "pygments_lexer": "ipython3",
   "version": "3.9.12"
  }
 },
 "nbformat": 4,
 "nbformat_minor": 4
}
