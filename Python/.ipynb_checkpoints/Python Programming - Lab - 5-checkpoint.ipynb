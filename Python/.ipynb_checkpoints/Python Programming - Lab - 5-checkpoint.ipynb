{
 "cells": [
  {
   "cell_type": "markdown",
   "metadata": {},
   "source": [
    "\n",
    "<a href='https://www.darshan.ac.in/'> <img src='https://www.darshan.ac.in/Content/media/DU_Logo.svg' width=\"250\" height=\"300\"/></a>\n",
    "<pre>\n",
    "<center><b><h1>Python Programming - 2101CS405</b></center>\n",
    "<center><b><h1>Lab - 5</b></center>    \n",
    "<pre>"
   ]
  },
  {
   "cell_type": "markdown",
   "metadata": {},
   "source": [
    "# list"
   ]
  },
  {
   "cell_type": "markdown",
   "metadata": {},
   "source": [
    "### 01) WAP to find sum of all the elements in List."
   ]
  },
  {
   "cell_type": "code",
   "execution_count": 5,
   "metadata": {},
   "outputs": [
    {
     "name": "stdout",
     "output_type": "stream",
     "text": [
      "Enter the Size of List : 10\n",
      "Enter the value : 10\n",
      "Enter the value : 20\n",
      "Enter the value : 30\n",
      "Enter the value : 40\n",
      "Enter the value : 50\n",
      "Enter the value : 60\n",
      "Enter the value : 70\n",
      "Enter the value : 80\n",
      "Enter the value : 90\n",
      "Enter the value : 100\n",
      "Sum = 550\n"
     ]
    }
   ],
   "source": [
    "n = int(input(\"Enter the Size of List : \"));\n",
    "numList = [int(input(\"Enter the value : \")) for i in range(0,n)];\n",
    "\n",
    "sum = 0;\n",
    "for i in numList:\n",
    "    sum += i;\n",
    "    \n",
    "print(\"Sum =\", sum);"
   ]
  },
  {
   "cell_type": "markdown",
   "metadata": {},
   "source": [
    "### 02) WAP to find largest element in a List."
   ]
  },
  {
   "cell_type": "code",
   "execution_count": 6,
   "metadata": {},
   "outputs": [
    {
     "name": "stdout",
     "output_type": "stream",
     "text": [
      "Enter the Size of List : 5\n",
      "Enter the value : 1\n",
      "Enter the value : 5\n",
      "Enter the value : 2\n",
      "Enter the value : 96\n",
      "Enter the value : 47\n",
      "96\n"
     ]
    }
   ],
   "source": [
    "n = int(input(\"Enter the Size of List : \"));\n",
    "numList = [int(input(\"Enter the value : \")) for i in range(0,n)];\n",
    "\n",
    "print(max(numList));\n",
    "    "
   ]
  },
  {
   "cell_type": "markdown",
   "metadata": {},
   "source": [
    "### 03) WAP to split the List into two and append the first part to the end."
   ]
  },
  {
   "cell_type": "code",
   "execution_count": 22,
   "metadata": {},
   "outputs": [
    {
     "name": "stdout",
     "output_type": "stream",
     "text": [
      "Enter the Size of List : 6\n",
      "Enter the value : 10\n",
      "Enter the value : 20\n",
      "Enter the value : 30\n",
      "Enter the value : 40\n",
      "Enter the value : 50\n",
      "Enter the value : 60\n",
      "['10', '20', '30', '40', '50', '60', '10', '20', '30']\n"
     ]
    }
   ],
   "source": [
    "n = int(input(\"Enter the Size of List : \"));\n",
    "list1 = [(input(\"Enter the value : \")) for i in range(0,n)];\n",
    "\n",
    "firstList = list1[0:int(len(list1)/2)];\n",
    "\n",
    "list1 += firstList;\n",
    "\n",
    "print(list1);"
   ]
  },
  {
   "cell_type": "markdown",
   "metadata": {},
   "source": [
    "### 04) WAP to interchange first and last elements in list entered by a user."
   ]
  },
  {
   "cell_type": "code",
   "execution_count": 25,
   "metadata": {},
   "outputs": [
    {
     "name": "stdout",
     "output_type": "stream",
     "text": [
      "Enter the Size of List : 6\n",
      "Enter the value : 312\n",
      "Enter the value : 654\n",
      "Enter the value : 87\n",
      "Enter the value : ewart\n",
      "Enter the value : gdr654\n",
      "Enter the value : asdf\n",
      "['asdf', '654', '87', 'ewart', 'gdr654', '312']\n"
     ]
    }
   ],
   "source": [
    "n = int(input(\"Enter the Size of List : \"));\n",
    "list1 = [(input(\"Enter the value : \")) for i in range(0,n)];\n",
    "\n",
    "firstEle = list1.pop(0);\n",
    "lastEle = list1.pop();\n",
    "\n",
    "list1.append(firstEle);\n",
    "list1.insert(0, lastEle);\n",
    "\n",
    "print(list1)"
   ]
  },
  {
   "cell_type": "markdown",
   "metadata": {},
   "source": [
    "### 05) WAP to interchange the elements on two positions entered by a user."
   ]
  },
  {
   "cell_type": "code",
   "execution_count": 30,
   "metadata": {},
   "outputs": [
    {
     "name": "stdout",
     "output_type": "stream",
     "text": [
      "Enter the Size of List : 5\n",
      "Enter the value : 10\n",
      "Enter the value : 20\n",
      "Enter the value : 30\n",
      "Enter the value : 40\n",
      "Enter the value : 50\n",
      "\n",
      "Length of List is 5\n",
      "Enter the First Position : 1\n",
      "Enter the Second Position : 3\n",
      "['10', '40', '30', '20', '50']\n"
     ]
    }
   ],
   "source": [
    "n = int(input(\"Enter the Size of List : \"));\n",
    "list1 = [(input(\"Enter the value : \")) for i in range(0,n)];\n",
    "print(\"\\nLength of List is\",len(list1));\n",
    "\n",
    "firstPos = int(input(\"Enter the First Position : \"));\n",
    "secondPos = int(input(\"Enter the Second Position : \"));\n",
    "\n",
    "firstEle = list1.pop(firstPos);\n",
    "secondEle = list1.pop(secondPos-1);\n",
    "\n",
    "list1.insert(firstPos, secondEle);\n",
    "list1.insert(secondPos, firstEle);\n",
    "print(list1);"
   ]
  },
  {
   "cell_type": "markdown",
   "metadata": {},
   "source": [
    "### 06) WAP to reverses the list entered by user."
   ]
  },
  {
   "cell_type": "code",
   "execution_count": 31,
   "metadata": {},
   "outputs": [
    {
     "name": "stdout",
     "output_type": "stream",
     "text": [
      "Enter the Size of List : 5\n",
      "Enter the value : 1\n",
      "Enter the value : 2\n",
      "Enter the value : 3\n",
      "Enter the value : 4\n",
      "Enter the value : 5\n",
      "['5', '4', '3', '2', '1']\n"
     ]
    }
   ],
   "source": [
    "n = int(input(\"Enter the Size of List : \"));\n",
    "list1 = [(input(\"Enter the value : \")) for i in range(0,n)];\n",
    "\n",
    "list1.reverse();\n",
    "\n",
    "print(list1);\n"
   ]
  },
  {
   "cell_type": "markdown",
   "metadata": {},
   "source": [
    "### 07) Python program to remove multiple elements from a list using list comprehension"
   ]
  },
  {
   "cell_type": "code",
   "execution_count": 39,
   "metadata": {},
   "outputs": [
    {
     "name": "stdout",
     "output_type": "stream",
     "text": [
      "Enter the Size of List : 10\n",
      "Enter the value : 12\n",
      "Enter the value : 45\n",
      "Enter the value : 78\n",
      "Enter the value : 123\n",
      "Enter the value : 456\n",
      "Enter the value : 789\n",
      "Enter the value : 89\n",
      "Enter the value : 56\n",
      "Enter the value : 23\n",
      "Enter the value : 111\n",
      "\n",
      " ['12', '45', '78', '123', '456', '789', '89', '56', '23', '111']\n",
      "Enter the Number of Elements you want to remove in List : 4\n",
      "Enter the value : 45\n",
      "Enter the value : 456\n",
      "Enter the value : 56\n",
      "Enter the value : 12\n",
      "['78', '123', '789', '89', '23', '111']\n"
     ]
    }
   ],
   "source": [
    "n = int(input(\"Enter the Size of List : \"));\n",
    "list1 = [(input(\"Enter the value : \")) for i in range(0,n)];\n",
    "\n",
    "print(\"\\n\", list1);\n",
    "rSize = int(input(\"Enter the Number of Elements you want to remove in List : \"));\n",
    "removeList = [(input(\"Enter the value : \")) for i in range(0,rSize)];\n",
    "\n",
    "for i in range(0,rSize):\n",
    "    list1.remove(removeList[i]);\n",
    "    \n",
    "print(list1);\n",
    "\n",
    "    "
   ]
  },
  {
   "cell_type": "markdown",
   "metadata": {},
   "source": [
    "### 08) Create a list from the specified start to end index of another list."
   ]
  },
  {
   "cell_type": "code",
   "execution_count": 41,
   "metadata": {},
   "outputs": [
    {
     "name": "stdout",
     "output_type": "stream",
     "text": [
      "Enter the Size of List : 10\n",
      "Enter the value : 12\n",
      "Enter the value : 45\n",
      "Enter the value : 78\n",
      "Enter the value : 321\n",
      "Enter the value : 654\n",
      "Enter the value : 987\n",
      "Enter the value : 89\n",
      "Enter the value : 56\n",
      "Enter the value : 23\n",
      "Enter the value : 111\n",
      "Enter the Starting Index : 2\n",
      "Enter the Ending Index : 6\n",
      "['78', '321', '654', '987', '89']\n"
     ]
    }
   ],
   "source": [
    "n = int(input(\"Enter the Size of List : \"));\n",
    "list1 = [(input(\"Enter the value : \")) for i in range(0,n)];\n",
    "\n",
    "start = int(input(\"Enter the Starting Index : \"));\n",
    "end = int(input(\"Enter the Ending Index : \"));\n",
    "\n",
    "new = list1[start:(end+1)];\n",
    "\n",
    "print(new);"
   ]
  },
  {
   "cell_type": "markdown",
   "metadata": {},
   "source": [
    "### 09) Input comma separated elements, convert into list and print."
   ]
  },
  {
   "cell_type": "code",
   "execution_count": 42,
   "metadata": {},
   "outputs": [
    {
     "name": "stdout",
     "output_type": "stream",
     "text": [
      "Enter the comma separated elements : uttam,kishan,karan\n",
      "['uttam', 'kishan', 'karan']\n"
     ]
    }
   ],
   "source": [
    "string = input(\"Enter the comma separated elements : \");\n",
    "\n",
    "list1 = string.split(\",\");\n",
    "\n",
    "print(list1);"
   ]
  },
  {
   "cell_type": "markdown",
   "metadata": {},
   "source": [
    "### 01) WAP to count Even and Odd numbers in a List."
   ]
  },
  {
   "cell_type": "code",
   "execution_count": 45,
   "metadata": {},
   "outputs": [
    {
     "name": "stdout",
     "output_type": "stream",
     "text": [
      "Enter the Size of List : 5\n",
      "Enter the value : 10\n",
      "Enter the value : 15\n",
      "Enter the value : 20\n",
      "Enter the value : 25\n",
      "Enter the value : 30\n",
      "\n",
      "Even Numbers =  3\n",
      "Odd Numbers =  2\n"
     ]
    }
   ],
   "source": [
    "n = int(input(\"Enter the Size of List : \"));\n",
    "list1 = [int((input(\"Enter the value : \"))) for i in range(0,n)];\n",
    "\n",
    "evenNum = 0;\n",
    "oddNum = 0;\n",
    "\n",
    "for i in list1:\n",
    "    if i%2 == 0:\n",
    "        evenNum += 1;\n",
    "    else:\n",
    "        oddNum += 1;\n",
    "        \n",
    "print(\"\\nEven Numbers = \",evenNum);\n",
    "print(\"Odd Numbers = \",oddNum);"
   ]
  },
  {
   "cell_type": "markdown",
   "metadata": {},
   "source": [
    "### 02) Python program to find N largest and smallest elements from the list"
   ]
  },
  {
   "cell_type": "code",
   "execution_count": 4,
   "metadata": {},
   "outputs": [
    {
     "name": "stdout",
     "output_type": "stream",
     "text": [
      "Enter the Size of List : 10\n",
      "Enter the value : 12\n",
      "Enter the value : 56\n",
      "Enter the value : 89\n",
      "Enter the value : 78\n",
      "Enter the value : 45\n",
      "Enter the value : 23\n",
      "Enter the value : 19\n",
      "Enter the value : 37\n",
      "Enter the value : 46\n",
      "Enter the value : 28\n",
      "How many Number you want to find Min & Max in List : 3\n",
      "Smallest Number :  [12, 19, 23]\n",
      "Largest Number :  [56, 78, 89]\n"
     ]
    }
   ],
   "source": [
    "n = int(input(\"Enter the Size of List : \"));\n",
    "list1 = [int((input(\"Enter the value : \"))) for i in range(0,n)];\n",
    "\n",
    "num = int(input(\"How many Number you want to find Min & Max in List : \")); \n",
    "\n",
    "list1.sort();\n",
    "\n",
    "small = list1[0:(num)];\n",
    "large = list1[(-num) : ];\n",
    "\n",
    "print(\"Smallest Number : \",small)\n",
    "print(\"Largest Number : \",large)"
   ]
  },
  {
   "cell_type": "markdown",
   "metadata": {},
   "source": [
    "### 03) WAP to print duplicates from a list of integers"
   ]
  },
  {
   "cell_type": "code",
   "execution_count": 8,
   "metadata": {},
   "outputs": [
    {
     "name": "stdout",
     "output_type": "stream",
     "text": [
      "Enter the Size of List : 10\n",
      "Enter the value : 2\n",
      "Enter the value : 56\n",
      "Enter the value : 7\n",
      "Enter the value : 89\n",
      "Enter the value : 2\n",
      "Enter the value : 3\n",
      "Enter the value : 56\n",
      "Enter the value : 1\n",
      "Enter the value : 45\n",
      "Enter the value : 38\n",
      "Duplicate Elements =  {56, 2}\n"
     ]
    }
   ],
   "source": [
    "n = int(input(\"Enter the Size of List : \"));\n",
    "list1 = [int((input(\"Enter the value : \"))) for i in range(0,n)];\n",
    "\n",
    "duplicate = [];\n",
    "for i in list1:\n",
    "    if list1.count(i) > 1:\n",
    "        duplicate.append(i);\n",
    "        \n",
    "print(\"Duplicate Elements = \", set(duplicate));"
   ]
  }
 ],
 "metadata": {
  "kernelspec": {
   "display_name": "Python 3 (ipykernel)",
   "language": "python",
   "name": "python3"
  },
  "language_info": {
   "codemirror_mode": {
    "name": "ipython",
    "version": 3
   },
   "file_extension": ".py",
   "mimetype": "text/x-python",
   "name": "python",
   "nbconvert_exporter": "python",
   "pygments_lexer": "ipython3",
   "version": "3.9.13"
  }
 },
 "nbformat": 4,
 "nbformat_minor": 4
}
