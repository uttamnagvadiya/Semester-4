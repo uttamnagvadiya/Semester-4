{
 "cells": [
  {
   "cell_type": "markdown",
   "metadata": {},
   "source": [
    "<a href='https://www.darshan.ac.in/'> <img src='https://www.darshan.ac.in/Content/media/DU_Logo.svg' width=\"250\" height=\"300\"/></a>\n",
    "<pre>\n",
    "<center><b><h1>Python Programming - 2101CS405</b></center>\n",
    "<center><b><h1>Lab - 7</b></center>    \n",
    "<pre>"
   ]
  },
  {
   "cell_type": "markdown",
   "metadata": {},
   "source": [
    "# Functions"
   ]
  },
  {
   "cell_type": "markdown",
   "metadata": {},
   "source": [
    "### 01) WAP to count simple interest using function."
   ]
  },
  {
   "cell_type": "code",
   "execution_count": 13,
   "metadata": {},
   "outputs": [
    {
     "name": "stdout",
     "output_type": "stream",
     "text": [
      "Enter the Amount : 100000\n",
      "Enter the Rate of Interest : 6\n",
      "Enter the Time Period : 5\n",
      "Interest = 30000.0\n"
     ]
    },
    {
     "data": {
      "text/plain": [
       "30000.0"
      ]
     },
     "execution_count": 13,
     "metadata": {},
     "output_type": "execute_result"
    }
   ],
   "source": [
    "\n",
    "def calculateSimpleInterest(p,r,t):\n",
    "    \n",
    "    '''Calculate the Simple Interest.'''\n",
    "     \n",
    "    si = (p * t * r)/100\n",
    "    print(\"Interest =\", si)\n",
    "    return si\n",
    "     \n",
    "# Driver code\n",
    "p = float(input(\"Enter the Amount : \"))\n",
    "r = float(input(\"Enter the Rate of Interest : \"))\n",
    "t = float(input(\"Enter the Time Period : \"))\n",
    "calculateSimpleInterest(p, r, t)"
   ]
  },
  {
   "cell_type": "markdown",
   "metadata": {},
   "source": [
    "### 02) WAP that defines a function to add first n numbers."
   ]
  },
  {
   "cell_type": "code",
   "execution_count": 17,
   "metadata": {},
   "outputs": [
    {
     "name": "stdout",
     "output_type": "stream",
     "text": [
      "Enter the Number : 25\n",
      "[1, 2, 3, 4, 5, 6, 7, 8, 9, 10, 11, 12, 13, 14, 15, 16, 17, 18, 19, 20, 21, 22, 23, 24, 25]\n",
      "Sum = 325\n"
     ]
    },
    {
     "data": {
      "text/plain": [
       "325"
      ]
     },
     "execution_count": 17,
     "metadata": {},
     "output_type": "execute_result"
    }
   ],
   "source": [
    "def sumOfNumbers(numbers):\n",
    "    '''Sum of First N Number.'''\n",
    "    add = sum(numbers)\n",
    "    print(\"Sum =\", add)\n",
    "    return add\n",
    "    \n",
    "\n",
    "n = int(input(\"Enter the Number : \"))\n",
    "numList = [];\n",
    "for i in range(1, n+1):\n",
    "    numList.append(i);\n",
    "    \n",
    "print(numList)\n",
    "sumOfNumbers(numList)"
   ]
  },
  {
   "cell_type": "markdown",
   "metadata": {},
   "source": [
    "### 03) WAP to find maximum number from given two numbers using function."
   ]
  },
  {
   "cell_type": "code",
   "execution_count": 2,
   "metadata": {},
   "outputs": [
    {
     "name": "stdout",
     "output_type": "stream",
     "text": [
      "Enter the X : 23\n",
      "Enter the Y : 89\n",
      "Maximum number is 89\n"
     ]
    }
   ],
   "source": [
    "def maxNumber (x, y) :\n",
    "    if x>y:\n",
    "        return x;\n",
    "    else:\n",
    "        return y;\n",
    "    \n",
    "x = int(input(\"Enter the X : \"));\n",
    "y = int(input(\"Enter the Y : \"));\n",
    "\n",
    "print(\"Maximum number is\", maxNumber(x, y));"
   ]
  },
  {
   "cell_type": "markdown",
   "metadata": {},
   "source": [
    "### 04) WAP that defines a function which returns 1 if the number is prime otherwise return 0."
   ]
  },
  {
   "cell_type": "code",
   "execution_count": 10,
   "metadata": {},
   "outputs": [
    {
     "name": "stdout",
     "output_type": "stream",
     "text": [
      "Enter the number : 19\n",
      "1\n"
     ]
    }
   ],
   "source": [
    "def isPrime (x) :\n",
    "    for i in range(2, int(x/2)):\n",
    "        if x%i == 0:\n",
    "            return 0;\n",
    "    else:\n",
    "        return 1;\n",
    "\n",
    "n = int(input(\"Enter the number : \"));\n",
    "print(isPrime(n));"
   ]
  },
  {
   "cell_type": "markdown",
   "metadata": {},
   "source": [
    "### 05) Write a function called primes that takes an integer value as an argument and returns a list of all prime numbers up to that number."
   ]
  },
  {
   "cell_type": "code",
   "execution_count": 16,
   "metadata": {},
   "outputs": [
    {
     "name": "stdout",
     "output_type": "stream",
     "text": [
      "Enter the number : 30\n",
      "1, 2, 3, 5, 7, 11, 13, 17, 19, 23, 29, "
     ]
    }
   ],
   "source": [
    "def primeNumbers (x, y):\n",
    "    for i in range(x, y):\n",
    "        for j in range(2, int(i/2+1)):\n",
    "            if i%j == 0:\n",
    "                break;\n",
    "        else:\n",
    "            print(i, end=\", \");\n",
    "            \n",
    "n = int(input(\"Enter the number : \"));\n",
    "primeNumbers(1, y=n);"
   ]
  },
  {
   "cell_type": "markdown",
   "metadata": {},
   "source": [
    "### 06) WAP to generate Fibonacci series of N given number using function name fibbo. (e.g. 0 1 1 2 3 5 8...)"
   ]
  },
  {
   "cell_type": "code",
   "execution_count": 16,
   "metadata": {},
   "outputs": [
    {
     "name": "stdout",
     "output_type": "stream",
     "text": [
      "Enter the number : 8\n",
      "21\n",
      "Series : 0 1 1 2 3 5 8 13 "
     ]
    }
   ],
   "source": [
    "def fibbo(n):\n",
    "    if n <= 1:\n",
    "        return n;\n",
    "    else:\n",
    "        return fibbo(n-1) + fibbo(n-2);\n",
    "\n",
    "def fibbonacciSeries(n):\n",
    "    x=0\n",
    "    y=1\n",
    "    print(\"Series\", end=\" : \")\n",
    "    for i in range(1, n+1):\n",
    "        print(x, end=\" \")\n",
    "        temp = x+y;\n",
    "        x=y;\n",
    "        y=temp;\n",
    "        \n",
    "        \n",
    "n = int(input(\"Enter the number : \"));\n",
    "print(fibbo(n))\n",
    "fibbonacciSeries(n)"
   ]
  },
  {
   "cell_type": "markdown",
   "metadata": {},
   "source": [
    "### 07) WAP to find the factorial of a given number using recursion."
   ]
  },
  {
   "cell_type": "code",
   "execution_count": 4,
   "metadata": {},
   "outputs": [
    {
     "name": "stdout",
     "output_type": "stream",
     "text": [
      "Enter the number : 5\n",
      "120\n"
     ]
    }
   ],
   "source": [
    "def factorial(n):\n",
    "    if n <= 1:\n",
    "        return 1;\n",
    "    else:\n",
    "        return n * factorial(n-1);\n",
    "    \n",
    "n = int(input(\"Enter the number : \"));\n",
    "print(factorial(n))"
   ]
  },
  {
   "cell_type": "markdown",
   "metadata": {},
   "source": [
    "### 08) WAP to implement simple calculator using lamda function."
   ]
  },
  {
   "cell_type": "code",
   "execution_count": 6,
   "metadata": {},
   "outputs": [
    {
     "name": "stdout",
     "output_type": "stream",
     "text": [
      "7\n",
      "-3\n",
      "10\n",
      "0.4\n",
      "Enter the valid operation\n"
     ]
    }
   ],
   "source": [
    "calculator = lambda x, y, op : x+y if(op == '+') else (x-y if(op == '-') else (x*y if(op == '*') else(x/y if(op == '/') else \"Enter the valid operation\")));\n",
    "\n",
    "print(calculator(2, 5, '+'))\n",
    "print(calculator(2, 5, '-'))\n",
    "print(calculator(2, 5, '*'))\n",
    "print(calculator(2, 5, '/'))\n",
    "print(calculator(2, 5, '%'))"
   ]
  },
  {
   "cell_type": "markdown",
   "metadata": {},
   "source": [
    "### 09)Write a Python program that accepts a hyphen-separated sequence of words as input and prints the words               in a hyphen-separated sequence after sorting them alphabetically\n",
    "        Sample Items : green-red-yellow-black-white <br>\n",
    "        Expected Result : black-green-red-white-yellow"
   ]
  },
  {
   "cell_type": "code",
   "execution_count": 7,
   "metadata": {},
   "outputs": [
    {
     "data": {
      "text/plain": [
       "'black-green-red-white-yellow'"
      ]
     },
     "execution_count": 7,
     "metadata": {},
     "output_type": "execute_result"
    }
   ],
   "source": [
    "def sortWord(str):\n",
    "    string = str.split('-');\n",
    "    string.sort();\n",
    "    return \"-\".join(string)\n",
    "\n",
    "sortWord(\"green-red-yellow-black-white\")"
   ]
  },
  {
   "cell_type": "markdown",
   "metadata": {},
   "source": [
    "### 10) Write a python program to implement all function arguments type\n",
    "Positional arguments <Br>\n",
    "Default argument <Br>\n",
    "Keyword arguments (named arguments) <Br>\n",
    "Arbitrary arguments (variable-length arguments args and kwargs)"
   ]
  },
  {
   "cell_type": "code",
   "execution_count": 21,
   "metadata": {},
   "outputs": [
    {
     "name": "stdout",
     "output_type": "stream",
     "text": [
      "Positional arg arguments(1, 2, 5, 8, 9) :  -1.4444444444444446\n",
      "Default arg arguments(4, 6, 3) :  4.75\n",
      "Named arg arguments(c=5, e=3, a=1, d=5, b=0) :  -7.333333333333334\n",
      "Arbitary arg add(1,2,3,4,5,6,7,8,9,10) :  55\n"
     ]
    }
   ],
   "source": [
    "def arguments(a, b, c, d=7, e=4):\n",
    "    return a+b-c*d/e;\n",
    "\n",
    "print(\"Positional arg arguments(1, 2, 5, 8, 9) : \", arguments(1, 2, 5, d=8, e=9))\n",
    "print(\"Default arg arguments(4, 6, 3) : \", arguments(4, 6, 3))\n",
    "print(\"Named arg arguments(c=5, e=3, a=1, d=5, b=0) : \", arguments(c=5, e=3, a=1, d=5, b=0))\n",
    "\n",
    "add = lambda *x : sum(x);\n",
    "print(\"Arbitary arg add(1,2,3,4,5,6,7,8,9,10) : \", add(1,2,3,4,5,6,7,8,9,10))"
   ]
  },
  {
   "cell_type": "markdown",
   "metadata": {},
   "source": [
    "### 01) WAP to calculate power of a number using recursion."
   ]
  },
  {
   "cell_type": "code",
   "execution_count": 1,
   "metadata": {},
   "outputs": [
    {
     "name": "stdout",
     "output_type": "stream",
     "text": [
      "Enter the number : 2\n",
      "Enter the power : 5\n",
      "32\n"
     ]
    }
   ],
   "source": [
    "def power(x, y):\n",
    "    if(y == 1):\n",
    "        return x;\n",
    "    elif (y == 0):\n",
    "        return 1;\n",
    "    elif (y < 0):\n",
    "        return 1 / x * power(x, y+1);\n",
    "    else:\n",
    "        return x * power(x, y-1);\n",
    "    \n",
    "print(power(int(input(\"Enter the number : \")),int(input(\"Enter the power : \"))));"
   ]
  },
  {
   "cell_type": "markdown",
   "metadata": {},
   "source": [
    "### 02) WAP to count digits of a number using recursion."
   ]
  },
  {
   "cell_type": "code",
   "execution_count": 3,
   "metadata": {},
   "outputs": [
    {
     "name": "stdout",
     "output_type": "stream",
     "text": [
      "Enter the number : 1357\n",
      "4\n"
     ]
    }
   ],
   "source": [
    "def countDigits(n):\n",
    "    if (n == 0):\n",
    "        return 0;\n",
    "    else:\n",
    "        return 1 + countDigits(int(n/10));\n",
    "\n",
    "print(countDigits(int(input(\"Enter the number : \"))));"
   ]
  },
  {
   "cell_type": "markdown",
   "metadata": {},
   "source": [
    "### 03) WAP to reverse an integer number using recursion."
   ]
  },
  {
   "cell_type": "code",
   "execution_count": null,
   "metadata": {},
   "outputs": [],
   "source": [
    "def reverseNumber(n):\n",
    "    remainder=0;\n",
    "    if (n==0):\n",
    "        return 0;\n",
    "    else:\n",
    "        return \n",
    "        \n",
    "    \n",
    "print(reverseNumber(int(input(\"Enter the number : \"))));"
   ]
  },
  {
   "cell_type": "markdown",
   "metadata": {},
   "source": [
    "### 04) WAP to convert decimal number into binary using recursion."
   ]
  },
  {
   "cell_type": "code",
   "execution_count": null,
   "metadata": {},
   "outputs": [],
   "source": []
  }
 ],
 "metadata": {
  "kernelspec": {
   "display_name": "Python 3 (ipykernel)",
   "language": "python",
   "name": "python3"
  },
  "language_info": {
   "codemirror_mode": {
    "name": "ipython",
    "version": 3
   },
   "file_extension": ".py",
   "mimetype": "text/x-python",
   "name": "python",
   "nbconvert_exporter": "python",
   "pygments_lexer": "ipython3",
   "version": "3.9.13"
  }
 },
 "nbformat": 4,
 "nbformat_minor": 4
}
