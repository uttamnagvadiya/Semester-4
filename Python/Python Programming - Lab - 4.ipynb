{
 "cells": [
  {
   "cell_type": "markdown",
   "metadata": {},
   "source": [
    "\n",
    "<a href='https://www.darshan.ac.in/'> <img src='https://www.darshan.ac.in/Content/media/DU_Logo.svg' width=\"250\" height=\"300\"/></a>\n",
    "<pre>\n",
    "<center><b><h1>Python Programming - 2101CS405</b></center>\n",
    "<center><b><h1>Lab - 4</b></center>    \n",
    "<pre>"
   ]
  },
  {
   "cell_type": "markdown",
   "metadata": {},
   "source": [
    "# String"
   ]
  },
  {
   "cell_type": "markdown",
   "metadata": {},
   "source": [
    "### 01) WAP to check given string is palindrome or not."
   ]
  },
  {
   "cell_type": "code",
   "execution_count": 3,
   "metadata": {},
   "outputs": [
    {
     "name": "stdout",
     "output_type": "stream",
     "text": [
      "Enter the String : abcba\n",
      "It is palindrome string.\n"
     ]
    }
   ],
   "source": [
    "string = input(\"Enter the String : \");\n",
    "\n",
    "if (string == string[::-1]):\n",
    "    print(\"It is palindrome string.\");\n",
    "else:\n",
    "    print(\"It is not palindrome string.\");"
   ]
  },
  {
   "cell_type": "markdown",
   "metadata": {},
   "source": [
    "### 02) WAP to reverse the words in given string."
   ]
  },
  {
   "cell_type": "code",
   "execution_count": 33,
   "metadata": {},
   "outputs": [
    {
     "name": "stdout",
     "output_type": "stream",
     "text": [
      "Enter the String :  WAP to reverse the words in given string\n",
      "string given in words the reverse to WAP \n"
     ]
    }
   ],
   "source": [
    "string = input(\"Enter the String : \");\n",
    "s1 = string.split(\" \");\n",
    "\n",
    "words = reversed(s1);\n",
    "\n",
    "print(\" \".join(words));"
   ]
  },
  {
   "cell_type": "markdown",
   "metadata": {},
   "source": [
    "### 03) WAP to remove ith character from given string"
   ]
  },
  {
   "cell_type": "code",
   "execution_count": 8,
   "metadata": {},
   "outputs": [
    {
     "name": "stdout",
     "output_type": "stream",
     "text": [
      "Enter the String : uttam\n",
      "Enter the Index : 2\n",
      "utam"
     ]
    }
   ],
   "source": [
    "string = input(\"Enter the String : \");\n",
    "index = int(input(\"Enter the Index : \"));\n",
    "\n",
    "for i in range(0, len(string)):\n",
    "    if (index == i):\n",
    "        continue;\n",
    "    else:\n",
    "        print(string[i], end=\"\");"
   ]
  },
  {
   "cell_type": "markdown",
   "metadata": {},
   "source": [
    "### 04) WAP to find length of String without using len function."
   ]
  },
  {
   "cell_type": "code",
   "execution_count": 13,
   "metadata": {},
   "outputs": [
    {
     "name": "stdout",
     "output_type": "stream",
     "text": [
      "Enter the String : uttam\n",
      "Length of this String is 5\n"
     ]
    }
   ],
   "source": [
    "string = input(\"Enter the String : \");\n",
    "length = 0;\n",
    "\n",
    "for i in string:\n",
    "    length += 1;\n",
    "    \n",
    "print(\"Length of this String is\",length);"
   ]
  },
  {
   "cell_type": "markdown",
   "metadata": {},
   "source": [
    "### 05) WAP to print even length word in string."
   ]
  },
  {
   "cell_type": "code",
   "execution_count": 19,
   "metadata": {},
   "outputs": [
    {
     "name": "stdout",
     "output_type": "stream",
     "text": [
      "Enter the String : uttam nirmal kishan karan\n",
      "nirmal kishan "
     ]
    }
   ],
   "source": [
    "string = input(\"Enter the String : \");\n",
    "s = string.split(\" \");\n",
    "\n",
    "for i in s:\n",
    "    if (len(i) % 2 == 0):\n",
    "        print(i,end=\" \");"
   ]
  },
  {
   "cell_type": "markdown",
   "metadata": {},
   "source": [
    "### 06) WAP to count numbers of vowels in given string."
   ]
  },
  {
   "cell_type": "code",
   "execution_count": 20,
   "metadata": {},
   "outputs": [
    {
     "name": "stdout",
     "output_type": "stream",
     "text": [
      "Enter the String : uttam\n",
      "Number of Vowel in String is 2\n"
     ]
    }
   ],
   "source": [
    "string = input(\"Enter the String : \");\n",
    "vowel = \"aeiouAEIOU\";\n",
    "count = 0;\n",
    "for i in string:\n",
    "    if i in vowel:\n",
    "        count += 1;\n",
    "        \n",
    "print(\"Number of Vowel in String is\", count);\n"
   ]
  },
  {
   "cell_type": "markdown",
   "metadata": {},
   "source": [
    "### 07) WAP to convert given array to string."
   ]
  },
  {
   "cell_type": "code",
   "execution_count": 50,
   "metadata": {},
   "outputs": [
    {
     "name": "stdout",
     "output_type": "stream",
     "text": [
      "Enter the Number you want make list : 4\n",
      "Enter the value : Kishan\n",
      "Enter the value : Uttam\n",
      "Enter the value : Karan\n",
      "Enter the value : Nirmal\n",
      "['Kishan', 'Uttam', 'Karan', 'Nirmal']\n",
      "String =  KishanUttamKaranNirmal\n"
     ]
    }
   ],
   "source": [
    "lst = [];\n",
    "\n",
    "n = int(input(\"Enter the Number you want make list : \"))\n",
    "\n",
    "string = \"\";\n",
    "\n",
    "for i in range(0, n):\n",
    "    element = input(\"Enter the value : \")\n",
    "    lst.append(element);\n",
    "    \n",
    "print(lst);\n",
    "\n",
    "for i in lst:\n",
    "    string += i;\n",
    "    \n",
    "print(\"String = \", string);"
   ]
  },
  {
   "cell_type": "markdown",
   "metadata": {},
   "source": [
    "### 01) WAP to find out duplicate characters in given string."
   ]
  },
  {
   "cell_type": "code",
   "execution_count": 60,
   "metadata": {},
   "outputs": [
    {
     "name": "stdout",
     "output_type": "stream",
     "text": [
      "Enter the String : uttam\n",
      "{'t'}\n"
     ]
    }
   ],
   "source": [
    "string = input(\"Enter the String : \");\n",
    "duplicate = [];\n",
    "for i in string:\n",
    "    if string.count(i) > 1:\n",
    "        duplicate.append(i);\n",
    "        \n",
    "print(set(duplicate));"
   ]
  },
  {
   "cell_type": "markdown",
   "metadata": {},
   "source": [
    "### 02) WAP to capitalize the first and last character of each word in a string."
   ]
  },
  {
   "cell_type": "code",
   "execution_count": null,
   "metadata": {},
   "outputs": [],
   "source": [
    "string = input(\"Enter the String : \");\n",
    "\n"
   ]
  },
  {
   "cell_type": "markdown",
   "metadata": {},
   "source": [
    "### 03) WAP to find Maximum frequency character in String."
   ]
  },
  {
   "cell_type": "code",
   "execution_count": null,
   "metadata": {},
   "outputs": [],
   "source": []
  },
  {
   "cell_type": "markdown",
   "metadata": {},
   "source": [
    "### 04) WAP to find Minimum frequency character in String."
   ]
  },
  {
   "cell_type": "code",
   "execution_count": null,
   "metadata": {},
   "outputs": [],
   "source": []
  },
  {
   "cell_type": "markdown",
   "metadata": {},
   "source": [
    "### 05) WAP to check if a given string is binary string or not"
   ]
  },
  {
   "cell_type": "code",
   "execution_count": null,
   "metadata": {},
   "outputs": [],
   "source": []
  }
 ],
 "metadata": {
  "kernelspec": {
   "display_name": "Python 3 (ipykernel)",
   "language": "python",
   "name": "python3"
  },
  "language_info": {
   "codemirror_mode": {
    "name": "ipython",
    "version": 3
   },
   "file_extension": ".py",
   "mimetype": "text/x-python",
   "name": "python",
   "nbconvert_exporter": "python",
   "pygments_lexer": "ipython3",
   "version": "3.9.12"
  }
 },
 "nbformat": 4,
 "nbformat_minor": 4
}
