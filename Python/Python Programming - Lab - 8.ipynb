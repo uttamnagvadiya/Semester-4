{
 "cells": [
  {
   "attachments": {},
   "cell_type": "markdown",
   "metadata": {},
   "source": [
    "<a href='https://www.darshan.ac.in/'> <img src='https://www.darshan.ac.in/Content/media/DU_Logo.svg' width=\"250\" height=\"300\"/></a>\n",
    "<pre>\n",
    "<center><b><h1>Python Programming - 2101CS405</b></center>\n",
    "<center><b><h1>Lab - 8</b></center>    \n",
    "<pre>"
   ]
  },
  {
   "attachments": {},
   "cell_type": "markdown",
   "metadata": {},
   "source": [
    "# File handling"
   ]
  },
  {
   "attachments": {},
   "cell_type": "markdown",
   "metadata": {},
   "source": [
    "# A"
   ]
  },
  {
   "attachments": {},
   "cell_type": "markdown",
   "metadata": {},
   "source": [
    "### 01) WAP to read entire file named abc.txt"
   ]
  },
  {
   "cell_type": "code",
   "execution_count": 20,
   "metadata": {},
   "outputs": [
    {
     "name": "stdout",
     "output_type": "stream",
     "text": [
      "Hello, I am currently learning python\n",
      "python is oop language\n",
      "keep learning\n",
      "python is easiest language in syntax\n",
      "python is create in 'C' language\n",
      "Thank you\n"
     ]
    }
   ],
   "source": [
    "f = open(\"demofile.txt\", \"r\")\n",
    "print(f.read())"
   ]
  },
  {
   "attachments": {},
   "cell_type": "markdown",
   "metadata": {},
   "source": [
    "### 03) WAP to read first 5 lines from the file named abc.txt"
   ]
  },
  {
   "cell_type": "code",
   "execution_count": 21,
   "metadata": {},
   "outputs": [
    {
     "name": "stdout",
     "output_type": "stream",
     "text": [
      "Hello, I am currently learning python\n",
      "\n",
      "python is oop language\n",
      "\n",
      "keep learning\n",
      "\n",
      "python is easiest language in syntax\n",
      "\n",
      "python is create in 'C' language\n",
      "\n"
     ]
    }
   ],
   "source": [
    "f = open(\"demofile.txt\", \"r\")\n",
    "for i in range(5):\n",
    "    print(f.readline())"
   ]
  },
  {
   "attachments": {},
   "cell_type": "markdown",
   "metadata": {},
   "source": [
    "### 04) WAP to find the longest word in a file named abc.txt"
   ]
  },
  {
   "cell_type": "code",
   "execution_count": 22,
   "metadata": {},
   "outputs": [
    {
     "name": "stdout",
     "output_type": "stream",
     "text": [
      "Longest Word : currently\n"
     ]
    }
   ],
   "source": [
    "f = open(\"demofile.txt\", \"r\")\n",
    "\n",
    "longestWord = ''\n",
    "\n",
    "for line in f.readlines() :\n",
    "    wordList = line.split()\n",
    "    for word in wordList:\n",
    "        if len(longestWord) < len(word):\n",
    "            longestWord = word\n",
    "\n",
    "print(f\"Longest Word : {longestWord}\")"
   ]
  },
  {
   "attachments": {},
   "cell_type": "markdown",
   "metadata": {},
   "source": [
    "### 05) WAP to find the size of the file named abc.txt"
   ]
  },
  {
   "cell_type": "code",
   "execution_count": 23,
   "metadata": {},
   "outputs": [
    {
     "name": "stdout",
     "output_type": "stream",
     "text": [
      "159 bytes\n"
     ]
    }
   ],
   "source": [
    "import os\n",
    "\n",
    "file_stat = os.stat('demofile.txt')\n",
    "print(file_stat.st_size, 'bytes')"
   ]
  },
  {
   "attachments": {},
   "cell_type": "markdown",
   "metadata": {},
   "source": [
    "### 06) WAP to implement search function to search specific occurance of word in a given text file."
   ]
  },
  {
   "cell_type": "code",
   "execution_count": 24,
   "metadata": {},
   "outputs": [
    {
     "name": "stdout",
     "output_type": "stream",
     "text": [
      "The word 'python' is found 4 times in the file.\n"
     ]
    }
   ],
   "source": [
    "f = open(\"demofile.txt\", \"r\")\n",
    "\n",
    "searchWord = input(\"Enter the word you want to find in file : \")\n",
    "wordCount = 0\n",
    "\n",
    "for line in f.readlines() :\n",
    "    wordList = line.split()\n",
    "    for word in wordList:\n",
    "        if word == searchWord:\n",
    "            wordCount += 1\n",
    "\n",
    "if wordCount > 0:\n",
    "    print(f\"The word '{searchWord}' is found {wordCount} times in the file.\")\n",
    "else :\n",
    "    print(f\"The word '{searchWord}' is not found in the file.\")"
   ]
  },
  {
   "attachments": {},
   "cell_type": "markdown",
   "metadata": {},
   "source": [
    "# B"
   ]
  },
  {
   "attachments": {},
   "cell_type": "markdown",
   "metadata": {},
   "source": [
    "### 01) WAP to write first 100 prime numbers to a file named primenumbers.txt \n",
    "(Note: each number should be in new line)"
   ]
  },
  {
   "cell_type": "code",
   "execution_count": 33,
   "metadata": {},
   "outputs": [],
   "source": [
    "f = open(\"prime_numbers.txt\", \"a\")\n",
    "\n",
    "for i in range(101):\n",
    "    for j in range(2, i//2):\n",
    "        if i%j == 0:\n",
    "            break\n",
    "    else:\n",
    "        f.write(f'{str(i)}\\n')\n",
    "\n",
    "f.close()"
   ]
  },
  {
   "attachments": {},
   "cell_type": "markdown",
   "metadata": {},
   "source": [
    "### 02) WAP to merge two files and write it in a new file."
   ]
  },
  {
   "cell_type": "code",
   "execution_count": 37,
   "metadata": {},
   "outputs": [
    {
     "data": {
      "text/plain": [
       "231"
      ]
     },
     "execution_count": 37,
     "metadata": {},
     "output_type": "execute_result"
    }
   ],
   "source": [
    "file1 = open(\"demofile.txt\", \"r\")\n",
    "file2 = open(\"prime_numbers.txt\", \"r\")\n",
    "file3 = open(\"merge_file.txt\", \"w\")\n",
    "\n",
    "file3.write(f\"{file1.read()} {file2.read()}\")\n",
    "\n",
    "file1.close()\n",
    "file2.close()\n",
    "file3.close()"
   ]
  },
  {
   "attachments": {},
   "cell_type": "markdown",
   "metadata": {},
   "source": [
    "### 03) WAP to encrypt a text file."
   ]
  },
  {
   "cell_type": "code",
   "execution_count": 6,
   "metadata": {},
   "outputs": [
    {
     "name": "stdout",
     "output_type": "stream",
     "text": [
      "Original Data = b\"Hello, I am currently learning python\\r\\npython is oop language\\r\\nkeep  learning\\r\\npython is easiest language in syntax\\r\\npython is create in 'C' language\\r\\nThank you\"\n",
      "Encrypt Data = b'gAAAAABkcZ4SpVT0HKZ6PEMM1iA7OiTvkZ_2rC7rpa3oA6fF68CbJCxEH-NKDyEzaNZfus5GYKtvD9ken9Hyandz3eOETI1NHfYX1q45JD8w-A9aUECP4mGS9s_THa51hyV2Wv_Nd42L2HOaL-QUH9tyjRPeJVymbXgSZAVLPkRZcnTyoig6sFD7uJD4ZyEPJIJqYH6Xami3_UBOw5C8n2uvNINzxM9tw4gB-4OtUGc-TNMWy9ArJd0R-K8dz0jjgBypooM4UFmlgJN_XPuAVV1v0AAnA-XEgK-gE9kU9s3pGwvZmx_V4_4='\n"
     ]
    }
   ],
   "source": [
    "# import required module\n",
    "from cryptography.fernet import Fernet\n",
    "\n",
    "# key generation\n",
    "key = Fernet.generate_key()\n",
    " \n",
    "# string the key in a file\n",
    "with open('filekey.key', 'wb') as filekey:\n",
    "   filekey.write(key)\n",
    "\n",
    "\n",
    "# opening the key\n",
    "with open('filekey.key', 'rb') as filekey:\n",
    "    key = filekey.read()\n",
    " \n",
    "# using the generated key\n",
    "fernet = Fernet(key)\n",
    " \n",
    "# opening the original file to encrypt\n",
    "with open('demofile.txt', 'rb') as file:\n",
    "    original = file.read()\n",
    "     \n",
    "# encrypting the file\n",
    "encrypted = fernet.encrypt(original)\n",
    "\n",
    "# opening the file in write mode and\n",
    "# writing the encrypted data\n",
    "with open('demofile.txt', 'wb') as encrypted_file:\n",
    "    encrypted_file.write(encrypted)\n",
    "\n",
    "print(\"Original Data =\",original)\n",
    "print(\"Encrypt Data =\",encrypted)\n"
   ]
  },
  {
   "attachments": {},
   "cell_type": "markdown",
   "metadata": {},
   "source": [
    "### 04) WAP to decrypt a previously encrypted file."
   ]
  },
  {
   "cell_type": "code",
   "execution_count": 7,
   "metadata": {},
   "outputs": [
    {
     "name": "stdout",
     "output_type": "stream",
     "text": [
      "Encrypt Data = b'gAAAAABkcZ4SpVT0HKZ6PEMM1iA7OiTvkZ_2rC7rpa3oA6fF68CbJCxEH-NKDyEzaNZfus5GYKtvD9ken9Hyandz3eOETI1NHfYX1q45JD8w-A9aUECP4mGS9s_THa51hyV2Wv_Nd42L2HOaL-QUH9tyjRPeJVymbXgSZAVLPkRZcnTyoig6sFD7uJD4ZyEPJIJqYH6Xami3_UBOw5C8n2uvNINzxM9tw4gB-4OtUGc-TNMWy9ArJd0R-K8dz0jjgBypooM4UFmlgJN_XPuAVV1v0AAnA-XEgK-gE9kU9s3pGwvZmx_V4_4='\n",
      "Original Data = b\"Hello, I am currently learning python\\r\\npython is oop language\\r\\nkeep  learning\\r\\npython is easiest language in syntax\\r\\npython is create in 'C' language\\r\\nThank you\"\n"
     ]
    }
   ],
   "source": [
    "# using the key\n",
    "fernet = Fernet(key)\n",
    " \n",
    "# opening the encrypted file\n",
    "with open('demofile.txt', 'rb') as encrypt_file:\n",
    "    encrypted = encrypt_file.read()\n",
    " \n",
    "# decrypting the file\n",
    "decrypted = fernet.decrypt(encrypted)\n",
    " \n",
    "# opening the file in write mode and\n",
    "# writing the decrypted data\n",
    "with open('demofile.txt', 'wb') as decrypt_file:\n",
    "    decrypt_file.write(decrypted)\n",
    "\n",
    "print(\"Encrypt Data =\",encrypted)\n",
    "print(\"Original Data =\",decrypted)"
   ]
  },
  {
   "attachments": {},
   "cell_type": "markdown",
   "metadata": {},
   "source": [
    "### 05) WAP to remove a word from text file."
   ]
  },
  {
   "cell_type": "code",
   "execution_count": 49,
   "metadata": {},
   "outputs": [
    {
     "data": {
      "text/plain": [
       "155"
      ]
     },
     "execution_count": 49,
     "metadata": {},
     "output_type": "execute_result"
    }
   ],
   "source": [
    "readFile = open(\"demofile.txt\", \"r\")\n",
    "data = readFile.read();\n",
    "\n",
    "removeWord = input(\"Enter the word you want to remove from file : \")\n",
    "\n",
    "data = data.replace(removeWord, '')\n",
    "\n",
    "writeFile = open(\"demofile.txt\", \"w\")\n",
    "writeFile.write(data)"
   ]
  }
 ],
 "metadata": {
  "kernelspec": {
   "display_name": "Python 3 (ipykernel)",
   "language": "python",
   "name": "python3"
  },
  "language_info": {
   "codemirror_mode": {
    "name": "ipython",
    "version": 3
   },
   "file_extension": ".py",
   "mimetype": "text/x-python",
   "name": "python",
   "nbconvert_exporter": "python",
   "pygments_lexer": "ipython3",
   "version": "3.11.0"
  }
 },
 "nbformat": 4,
 "nbformat_minor": 4
}
