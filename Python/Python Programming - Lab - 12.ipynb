{
 "cells": [
  {
   "attachments": {},
   "cell_type": "markdown",
   "metadata": {},
   "source": [
    "<a href='https://www.darshan.ac.in/'> <img src='https://www.darshan.ac.in/Content/media/DU_Logo.svg' width=\"250\" height=\"300\"/></a>\n",
    "<pre>\n",
    "<center><b><h1>Python Programming - 2101CS405</b></center>\n",
    "<center><b><h1>Lab - 12</b></center>    \n",
    "<pre>"
   ]
  },
  {
   "attachments": {},
   "cell_type": "markdown",
   "metadata": {},
   "source": [
    "# OOP"
   ]
  },
  {
   "attachments": {},
   "cell_type": "markdown",
   "metadata": {},
   "source": [
    "### 01) Write a Program to create a class by name Students, and initialize attributes like name, age, and grade while creating an object."
   ]
  },
  {
   "cell_type": "code",
   "execution_count": 10,
   "metadata": {},
   "outputs": [
    {
     "name": "stdout",
     "output_type": "stream",
     "text": [
      "Kishan\n",
      "20\n",
      "B\n"
     ]
    }
   ],
   "source": [
    "class Students:\n",
    "    name = \"Uttam\"\n",
    "    age = 19\n",
    "    grade = \"A+\"\n",
    "    \n",
    "    def __init__(self, name, age, grade):\n",
    "        self.name = name\n",
    "        self.age = age\n",
    "        self.grade = grade\n",
    "        \n",
    "    def display(self):\n",
    "        print(self.name)\n",
    "        print(self.age)\n",
    "        print(self.grade)\n",
    "        \n",
    "stu = Students(\"Kishan\", 20, \"B\")\n",
    "stu.display()\n",
    "\n",
    "        "
   ]
  },
  {
   "attachments": {},
   "cell_type": "markdown",
   "metadata": {},
   "source": [
    "### 02) Create a class named Bank_Account with Account_No, User_Name, Email,Account_Type and Account_Balance data members. Also create a method GetAccountDetails() and DisplayAccountDetails(). Create main method to demonstrate the Bank_Account class."
   ]
  },
  {
   "cell_type": "code",
   "execution_count": 12,
   "metadata": {},
   "outputs": [
    {
     "name": "stdout",
     "output_type": "stream",
     "text": [
      "Enter the Account No : 123456789\n",
      "Enter the Username :uttam\n",
      "Enter the Email Address : uttam@gmail.com\n",
      "Enter the Account Type : saving\n",
      "Enter the Account Balance : 56435\n",
      "\n",
      " --- Account Details ---\n",
      "123456789\n",
      "uttam\n",
      "uttam@gmail.com\n",
      "saving\n",
      "56435.0\n"
     ]
    }
   ],
   "source": [
    "class BankAccount:\n",
    "    \n",
    "    account_no = 0\n",
    "    user_name = ''\n",
    "    email = ''\n",
    "    account_type = ''\n",
    "    account_balance = 0.0\n",
    "    \n",
    "    def getAccountDetails (self):\n",
    "        self.account_no = int(input(\"Enter the Account No : \"))\n",
    "        self.user_name = input(\"Enter the Username :\")\n",
    "        self.email = input(\"Enter the Email Address : \")\n",
    "        self.account_type = input(\"Enter the Account Type : \")\n",
    "        self.account_balance = float(input(\"Enter the Account Balance : \"))\n",
    "        \n",
    "    def displayAccountDetails (self):\n",
    "        print(\"\\n --- Account Details ---\")\n",
    "        print(self.account_no)\n",
    "        print(self.user_name)\n",
    "        print(self.email)\n",
    "        print(self.account_type)\n",
    "        print(self.account_balance)\n",
    "        \n",
    "    def main(self):\n",
    "        self.getAccountDetails()\n",
    "        self.displayAccountDetails()\n",
    "        \n",
    "bank = BankAccount()\n",
    "bank.main()"
   ]
  },
  {
   "attachments": {},
   "cell_type": "markdown",
   "metadata": {},
   "source": [
    "### 03) WAP to create Circle class with area and perimeter function to find area and perimeter of circle."
   ]
  },
  {
   "cell_type": "code",
   "execution_count": 23,
   "metadata": {},
   "outputs": [
    {
     "name": "stdout",
     "output_type": "stream",
     "text": [
      "Area = 78.5\n",
      "Perimeter = 31.400000000000002\n"
     ]
    }
   ],
   "source": [
    "import math\n",
    "class Circle:\n",
    "    \n",
    "    radius = 0\n",
    "    \n",
    "    def __init__(self, radius):\n",
    "        self.radius = radius\n",
    "        \n",
    "    def area (self):\n",
    "        area = 3.14 * self.radius * self.radius\n",
    "        print(\"Area =\", area)\n",
    "        \n",
    "    def perimeter (self):\n",
    "        perimeter = 2 * 3.14 * self.radius\n",
    "        print(\"Perimeter =\", perimeter)\n",
    "        \n",
    "cr = Circle(5)\n",
    "cr.area()\n",
    "cr.perimeter()\n",
    "        "
   ]
  },
  {
   "attachments": {},
   "cell_type": "markdown",
   "metadata": {},
   "source": [
    "### 04) Create a class for employees that includes attributes such as name, age, salary, and methods to update and display employee information."
   ]
  },
  {
   "cell_type": "code",
   "execution_count": 9,
   "metadata": {},
   "outputs": [
    {
     "name": "stdout",
     "output_type": "stream",
     "text": [
      "\n",
      "--- Before Update ---\n",
      "uttam\n",
      "19\n",
      "65464.23\n",
      "\n",
      "--- After Update ---\n",
      "kishan\n",
      "20\n",
      "12346.11\n"
     ]
    }
   ],
   "source": [
    "class Employees:\n",
    "    name = 'uttam'\n",
    "    age = 19\n",
    "    salary = 65464.23\n",
    "    \n",
    "    print(\"\\n--- Before Update ---\")\n",
    "    print(name)\n",
    "    print(age)\n",
    "    print(salary)\n",
    "    \n",
    "    def updateDetails(self, n, a, s):\n",
    "        self.name = n\n",
    "        self.age = a\n",
    "        self.salary = s\n",
    "        \n",
    "    def display(self):\n",
    "        print(\"\\n--- After Update ---\")\n",
    "        print(self.name)\n",
    "        print(self.age)\n",
    "        print(self.salary)\n",
    "    \n",
    "emp = Employees()\n",
    "emp.updateDetails(\"kishan\", 20, 12346.11)\n",
    "emp.display()\n",
    "        \n",
    "    "
   ]
  },
  {
   "attachments": {},
   "cell_type": "markdown",
   "metadata": {},
   "source": [
    "### 05) Create a bank account class with methods to deposit, withdraw, and check balance."
   ]
  },
  {
   "cell_type": "code",
   "execution_count": 21,
   "metadata": {},
   "outputs": [
    {
     "name": "stdout",
     "output_type": "stream",
     "text": [
      "Deposit -> 1\n",
      "Withdraw -> 2\n",
      "Balance Inquiry -> 3\n",
      "Enter the choice in above options : 2\n",
      "\n",
      "\n",
      "Enter the Amount you want to Deposit : 5000\n",
      "Collect your Amount.\n"
     ]
    }
   ],
   "source": [
    "class BankServices:\n",
    "    \n",
    "    balance = 50000;\n",
    "    \n",
    "    def main(self):\n",
    "        print(\"Deposit -> 1\\nWithdraw -> 2\\nBalance Inquiry -> 3\")\n",
    "        choice = int(input(\"Enter the choice in above options : \"))\n",
    "        print(\"\\n\")\n",
    "        \n",
    "        if (choice == 1):\n",
    "            self.deposit()\n",
    "        elif (choice == 2):\n",
    "            self.withdraw()\n",
    "        else:\n",
    "            self.checkBalance()\n",
    "        \n",
    "    def deposit(self):\n",
    "        amount = float(input(\"Enter the Amount you want to Deposit : \"))\n",
    "        self.balance += amount\n",
    "        print(\"Successfully Deposited.\")\n",
    "        \n",
    "    def withdraw(self):\n",
    "        amount = float(input(\"Enter the Amount you want to Deposit : \"))\n",
    "        if (amount <= 0 or amount >= self.balance):\n",
    "            print(\"Enter the valid amount.\")\n",
    "            return 0\n",
    "        else:\n",
    "            self.balance -= amount\n",
    "            print(\"Collect your Amount.\")\n",
    "        \n",
    "        \n",
    "    def checkBalance(self):\n",
    "        print(\"Your Balance :\", self.balance)\n",
    "        \n",
    "        \n",
    "        \n",
    "b = BankServices()\n",
    "b.main()\n",
    "    "
   ]
  },
  {
   "attachments": {},
   "cell_type": "markdown",
   "metadata": {},
   "source": [
    "### 06) Create a class for managing inventory that includes attributes such as item name, price, quantity, and methods to add, remove, and update items."
   ]
  },
  {
   "cell_type": "code",
   "execution_count": 3,
   "metadata": {},
   "outputs": [
    {
     "name": "stdout",
     "output_type": "stream",
     "text": [
      "\n",
      "            0 --> Menu\n",
      "            1 --> New Item\n",
      "            2 --> Remove Item\n",
      "            3 --> Display Items\n",
      "            7 --> Exit\n",
      "        \n",
      "Item is added.\n",
      "Item is added.\n",
      "Item is added.\n",
      "Item's removed successfully.\n",
      "\n",
      "Item Name : asdf\n",
      "Item Price : 10\n",
      "Item Quantity : 5\n",
      "\n",
      "Item Name : zxcv\n",
      "Item Price : 30\n",
      "Item Quantity : 6\n"
     ]
    }
   ],
   "source": [
    "class Inventory:\n",
    "    inventoryList = []\n",
    "\n",
    "    def menu(self):\n",
    "        print(\"\"\"\n",
    "            0 --> Menu\n",
    "            1 --> New Item\n",
    "            2 --> Remove Item\n",
    "            3 --> Display Items\n",
    "            7 --> Exit\n",
    "        \"\"\")\n",
    "\n",
    "    def addItem(self, item_name, item_price, item_quantity):\n",
    "        for i in self.inventoryList:\n",
    "            if (item_name == i['item-name']):\n",
    "                return \"Item already exist\"\n",
    "            \n",
    "        itemDictionary = {\n",
    "            'item-name': item_name,\n",
    "            'item-price': item_price,\n",
    "            'item-quantity': item_quantity\n",
    "        }\n",
    "        self.inventoryList.append(itemDictionary)\n",
    "\n",
    "        return \"Item is added.\"\n",
    "    \n",
    "    def removeItem(self, item_name):\n",
    "        length = 0\n",
    "        for i in range(len(self.inventoryList)):\n",
    "            if (item_name == self.inventoryList[i]['item-name']):\n",
    "                del self.inventoryList[i]\n",
    "                break\n",
    "            else:\n",
    "                length += 1\n",
    "\n",
    "        if (length == len(self.inventoryList)):\n",
    "            return \"Item not found.\"\n",
    "        else:\n",
    "            return \"Item's removed successfully.\"\n",
    "        \n",
    "    def displayItems(self):\n",
    "        if (len(self.inventoryList) == 0):\n",
    "            print(\"Items list is empty.\")\n",
    "        else:\n",
    "            for i in self.inventoryList:\n",
    "                print(f\"\\nItem Name : {i['item-name']}\")\n",
    "                print(f\"Item Price : {i['item-price']}\")\n",
    "                print(f\"Item Quantity : {i['item-quantity']}\")\n",
    "\n",
    "inventory = Inventory()\n",
    "inventory.menu()\n",
    "while(True):\n",
    "    operation = int(input(\"Enter the number you want perform operation : \"))\n",
    "    match operation:\n",
    "        case 0:\n",
    "            inventory.menu()\n",
    "        case 1:\n",
    "            name = input(\"Enter the item name : \")\n",
    "            price = int(input(\"Enter the item price : \"))\n",
    "            quantity = int(input(\"Enter the item quantity : \"))\n",
    "            print(inventory.addItem(name, price, quantity))\n",
    "        case 2:\n",
    "            name = input(\"Enter the item name you want to remove : \")\n",
    "            print(inventory.removeItem(name))\n",
    "        case 3:\n",
    "            inventory.displayItems()\n",
    "        case 7:\n",
    "            break"
   ]
  },
  {
   "attachments": {},
   "cell_type": "markdown",
   "metadata": {},
   "source": [
    "### 09) Create a Class with instance attributes"
   ]
  },
  {
   "cell_type": "code",
   "execution_count": 9,
   "metadata": {},
   "outputs": [
    {
     "name": "stdout",
     "output_type": "stream",
     "text": [
      "Dictionary form : {'name': 'abc', 'salary': 40000}\n",
      "['__class__', '__delattr__', '__dict__', '__dir__', '__doc__', '__eq__', '__format__', '__ge__', '__getattribute__', '__getstate__', '__gt__', '__hash__', '__init__', '__init_subclass__', '__le__', '__lt__', '__module__', '__ne__', '__new__', '__reduce__', '__reduce_ex__', '__repr__', '__setattr__', '__sizeof__', '__str__', '__subclasshook__', '__weakref__', 'name', 'salary', 'show']\n"
     ]
    }
   ],
   "source": [
    "class employee:\n",
    "    def __init__(self):\n",
    "        self.name = 'abc'\n",
    "        self.salary = 40000\n",
    "  \n",
    "    def show(self):\n",
    "        print(self.name)\n",
    "        print(self.salary)\n",
    "  \n",
    "e1 = employee()\n",
    "print(\"Dictionary form :\", vars(e1))\n",
    "print(dir(e1))"
   ]
  },
  {
   "attachments": {},
   "cell_type": "markdown",
   "metadata": {},
   "source": [
    "### 07)\n",
    "Create one class student_kit <br>\n",
    "Within the student_kit class create one class attribute principal name ( Mr ABC ) <br>\n",
    "Create one attendance method and take input as number of days. <br>\n",
    "While creating student take input their name . <br>\n",
    "Create one certificate for each student by taking input of number of days present in class. <br>"
   ]
  },
  {
   "cell_type": "code",
   "execution_count": 15,
   "metadata": {},
   "outputs": [
    {
     "name": "stdout",
     "output_type": "stream",
     "text": [
      "Uttam was present for 20 days.\n",
      "\n",
      "Certificate of Attendance\n",
      "\n",
      "Student Name : Uttam\n",
      "Principal Name : Mr. ABC\n",
      "\n",
      "Number of days present : 20\n"
     ]
    }
   ],
   "source": [
    "class Student_Kit:\n",
    "    principal_name = 'Mr. ABC'\n",
    "\n",
    "    def __init__(self, name, days):\n",
    "        self.student_name = name\n",
    "        self.present_days = days\n",
    "\n",
    "    def attendance(self, num_days):\n",
    "        if num_days > 0:\n",
    "            print(f\"{self.student_name} was present for {num_days} days.\")\n",
    "        else:\n",
    "            print(f\"{self.student_name} was absent for all days.\")\n",
    "\n",
    "    def generateCertificate (self):\n",
    "        print('\\nCertificate of Attendance\\n')\n",
    "        print(f\"Student Name : {self.student_name}\")\n",
    "        print(f\"Principal Name : {self.principal_name}\\n\")\n",
    "        print(f\"Number of days present : {self.present_days}\")\n",
    "\n",
    "def main (stu_name, pre_days):\n",
    "    student = Student_Kit(stu_name, pre_days)\n",
    "    student.attendance(days)\n",
    "    student.generateCertificate()\n",
    "\n",
    "name = input(\"Enter the student name : \")\n",
    "days = int(input(\"Enter the number of present days : \"))\n",
    "main(name, days)       "
   ]
  },
  {
   "attachments": {},
   "cell_type": "markdown",
   "metadata": {},
   "source": [
    "### 08) Define Time class with hour and minute as data member. Also define addition method to add two time objects."
   ]
  },
  {
   "cell_type": "code",
   "execution_count": null,
   "metadata": {},
   "outputs": [],
   "source": [
    "class Time:\n",
    "    hour = 0\n",
    "    minute = 0\n",
    "\n",
    "    def __init__(self, hh, mm) :\n",
    "        self.hour = hh\n",
    "        self.minute = mm\n",
    "\n",
    "    "
   ]
  },
  {
   "attachments": {},
   "cell_type": "markdown",
   "metadata": {},
   "source": [
    "### 09) WAP to demonstrate inheritance in python."
   ]
  },
  {
   "cell_type": "code",
   "execution_count": null,
   "metadata": {},
   "outputs": [],
   "source": []
  },
  {
   "attachments": {},
   "cell_type": "markdown",
   "metadata": {},
   "source": [
    "### 10) Create a child class Bus that will inherit all of the variables and methods of the Vehicle class\n",
    "class Vehicle:\n",
    "\n",
    "    def __init__(self, name, max_speed, mileage):\n",
    "        self.name = name\n",
    "        self.max_speed = max_speed\n",
    "        self.mileage = mileage\n",
    "        \n",
    "Create a Bus object that will inherit all of the variables and methods of the parent Vehicle class and display it.        "
   ]
  },
  {
   "cell_type": "code",
   "execution_count": null,
   "metadata": {},
   "outputs": [],
   "source": []
  },
  {
   "attachments": {},
   "cell_type": "markdown",
   "metadata": {},
   "source": [
    "### 11)  Create a class hierarchy for different types of animals, with a parent Animal class and child classes for specific animals like Cat, Dog, and Bird."
   ]
  },
  {
   "cell_type": "code",
   "execution_count": null,
   "metadata": {},
   "outputs": [],
   "source": []
  },
  {
   "attachments": {},
   "cell_type": "markdown",
   "metadata": {},
   "source": [
    "### 12) Create a class hierarchy for different types of vehicles, with a parent Vehicle class and child classes for specific vehicles like Car, Truck, and Motorcycle."
   ]
  },
  {
   "cell_type": "code",
   "execution_count": null,
   "metadata": {},
   "outputs": [],
   "source": []
  },
  {
   "attachments": {},
   "cell_type": "markdown",
   "metadata": {},
   "source": [
    "### 13)  Create a class hierarchy for different types of bank accounts, with a parent Account class and child classes for specific account types like Checking, Savings, and Credit."
   ]
  },
  {
   "cell_type": "code",
   "execution_count": null,
   "metadata": {},
   "outputs": [],
   "source": []
  },
  {
   "attachments": {},
   "cell_type": "markdown",
   "metadata": {},
   "source": [
    "### 14) Create a Shape class with a draw method that is not implemented. Create three child classes Rectangle, Circle, and Triangle that implement the draw method with their respective drawing behaviors. Create a list of Shape objects that includes one instance of each child class, and then iterate through the list and call the draw method on each object."
   ]
  },
  {
   "cell_type": "code",
   "execution_count": null,
   "metadata": {},
   "outputs": [],
   "source": []
  },
  {
   "attachments": {},
   "cell_type": "markdown",
   "metadata": {},
   "source": [
    "### 15) Create a Person class with a constructor that takes two arguments name and age. Create a child class Employee that inherits from Person and adds a new attribute salary. Override the __init__ method in Employee to call the parent class's __init__ method using the super keyword, and then initialize the salary attribute."
   ]
  },
  {
   "cell_type": "code",
   "execution_count": null,
   "metadata": {},
   "outputs": [],
   "source": []
  }
 ],
 "metadata": {
  "kernelspec": {
   "display_name": "Python 3 (ipykernel)",
   "language": "python",
   "name": "python3"
  },
  "language_info": {
   "codemirror_mode": {
    "name": "ipython",
    "version": 3
   },
   "file_extension": ".py",
   "mimetype": "text/x-python",
   "name": "python",
   "nbconvert_exporter": "python",
   "pygments_lexer": "ipython3",
   "version": "3.11.0"
  }
 },
 "nbformat": 4,
 "nbformat_minor": 4
}
