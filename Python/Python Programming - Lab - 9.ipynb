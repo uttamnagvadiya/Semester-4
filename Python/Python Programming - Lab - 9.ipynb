{
 "cells": [
  {
   "attachments": {},
   "cell_type": "markdown",
   "metadata": {},
   "source": [
    "<a href='https://www.darshan.ac.in/'> <img src='https://www.darshan.ac.in/Content/media/DU_Logo.svg' width=\"250\" height=\"300\"/></a>\n",
    "<pre>\n",
    "<center><b><h1>Python Programming - 2101CS405</b></center>\n",
    "<center><b><h1>Lab - 9</b></center>    \n",
    "<pre>"
   ]
  },
  {
   "attachments": {},
   "cell_type": "markdown",
   "metadata": {},
   "source": [
    "# Exception Handling"
   ]
  },
  {
   "attachments": {},
   "cell_type": "markdown",
   "metadata": {},
   "source": [
    "# A"
   ]
  },
  {
   "attachments": {},
   "cell_type": "markdown",
   "metadata": {},
   "source": [
    "### 01) WAP to handle divide by zero exception."
   ]
  },
  {
   "cell_type": "code",
   "execution_count": 2,
   "metadata": {},
   "outputs": [
    {
     "name": "stdout",
     "output_type": "stream",
     "text": [
      "Enter teh Number : 5\n",
      "Enter the Divisor Number : 0\n",
      "division by zero\n"
     ]
    }
   ],
   "source": [
    "try:\n",
    "    x = int(input(\"Enter teh Number : \"))\n",
    "    y = int(input(\"Enter the Divisor Number : \"))\n",
    "    \n",
    "    z = x/y;\n",
    "except ZeroDivisionError as e:\n",
    "    print(e);\n",
    "else: \n",
    "    print(z)\n",
    "    "
   ]
  },
  {
   "attachments": {},
   "cell_type": "markdown",
   "metadata": {},
   "source": [
    "### 02)  Write a Python program that inputs a number and generates an error message if it is not a number."
   ]
  },
  {
   "cell_type": "code",
   "execution_count": 9,
   "metadata": {},
   "outputs": [
    {
     "name": "stdout",
     "output_type": "stream",
     "text": [
      "Enter the Number : u\n",
      "invalid literal for int() with base 10: 'u'\n"
     ]
    }
   ],
   "source": [
    "try:\n",
    "    n = int(input(\"Enter the Number : \"))\n",
    "except ValueError as e:\n",
    "    print(e)\n",
    "else:\n",
    "    print(\"it is a number\")\n",
    "    "
   ]
  },
  {
   "attachments": {},
   "cell_type": "markdown",
   "metadata": {},
   "source": [
    "### 03) WAP to handle file not found Exception"
   ]
  },
  {
   "cell_type": "code",
   "execution_count": 37,
   "metadata": {},
   "outputs": [
    {
     "name": "stdout",
     "output_type": "stream",
     "text": [
      "[Errno 2] No such file or directory: 'xyz.txt'\n"
     ]
    }
   ],
   "source": [
    "try:\n",
    "    f=open('xyz.txt')\n",
    "except FileNotFoundError as e:\n",
    "    print(e)\n",
    "else:\n",
    "    data=f.read()\n",
    "    print(data)\n",
    "    "
   ]
  },
  {
   "attachments": {},
   "cell_type": "markdown",
   "metadata": {},
   "source": [
    "### 04) WAP to handle type Exception."
   ]
  },
  {
   "cell_type": "code",
   "execution_count": 40,
   "metadata": {},
   "outputs": [
    {
     "name": "stdout",
     "output_type": "stream",
     "text": [
      "Enter the Number : 4\n",
      "Enter the Number : 5\n",
      "can only concatenate str (not \"int\") to str\n"
     ]
    }
   ],
   "source": [
    "try:\n",
    "    x=input(\"Enter the Number : \")\n",
    "    y=int(input(\"Enter the Number : \"))\n",
    "    z=x+y\n",
    "except TypeError as e:\n",
    "    print(e)\n",
    "else:\n",
    "    print(z)\n",
    "    \n",
    "    "
   ]
  },
  {
   "attachments": {},
   "cell_type": "markdown",
   "metadata": {},
   "source": [
    "### 05) WAP to demonstrate valueError and indexError with example."
   ]
  },
  {
   "cell_type": "code",
   "execution_count": 56,
   "metadata": {},
   "outputs": [
    {
     "name": "stdout",
     "output_type": "stream",
     "text": [
      "Enter the size of list : 3\n",
      "Enter the element : 4596\n",
      "Enter the element : 78\n",
      "Enter the element : 7489\n",
      "Enter the Index : 5\n",
      "list index out of range\n"
     ]
    }
   ],
   "source": [
    "try:\n",
    "    size = int(input(\"Enter the size of list : \"))\n",
    "    list1 = []\n",
    "    for i in range(0, size):\n",
    "        element = int(input(\"Enter the element : \"))\n",
    "        list1.append(element)\n",
    "        \n",
    "    index = int(input(\"Enter the Index : \"))\n",
    "    print(f\"{index} ==> {list1[index]}\")\n",
    "except ValueError as e:\n",
    "    print(e)\n",
    "except IndexError as e:\n",
    "    print(e)"
   ]
  },
  {
   "attachments": {},
   "cell_type": "markdown",
   "metadata": {},
   "source": [
    "### 06) WAP to domonstrate else  and finally block."
   ]
  },
  {
   "cell_type": "code",
   "execution_count": 58,
   "metadata": {},
   "outputs": [
    {
     "name": "stdout",
     "output_type": "stream",
     "text": [
      "Enter teh Number : 5\n",
      "Enter the Divisor Number : 0\n",
      "division by zero\n",
      "finally block calling.\n"
     ]
    }
   ],
   "source": [
    "try:\n",
    "    x = int(input(\"Enter teh Number : \"))\n",
    "    y = int(input(\"Enter the Divisor Number : \"))\n",
    "    \n",
    "    z = x/y;\n",
    "except ZeroDivisionError as e:\n",
    "    print(e);\n",
    "else: \n",
    "    print(z)\n",
    "finally:\n",
    "    print(\"finally block calling.\")"
   ]
  },
  {
   "attachments": {},
   "cell_type": "markdown",
   "metadata": {},
   "source": [
    "### 07) Create a short program that prompts the user for a list of grades separated by commas. Split the string into individual grades and use a list comprehension to convert each string to an integer. You should use a try statement to inform the user when the values they entered cannot be converted."
   ]
  },
  {
   "cell_type": "code",
   "execution_count": 72,
   "metadata": {},
   "outputs": [
    {
     "name": "stdout",
     "output_type": "stream",
     "text": [
      "Enter the marks seperated by comma : 56,4,5,6,5,a,s,536,35,\n",
      "value can not converted into integer\n"
     ]
    }
   ],
   "source": [
    "try:\n",
    "    marks = input(\"Enter the marks seperated by comma : \").split(',')\n",
    "    list1 = [int(i) for i in marks]\n",
    "except:\n",
    "    print(\"value can not converted into integer\")\n",
    "else:\n",
    "    print(list1)"
   ]
  },
  {
   "attachments": {},
   "cell_type": "markdown",
   "metadata": {},
   "source": []
  },
  {
   "attachments": {},
   "cell_type": "markdown",
   "metadata": {},
   "source": [
    "# B"
   ]
  },
  {
   "attachments": {},
   "cell_type": "markdown",
   "metadata": {},
   "source": [
    "### 01) WAP to Raising User Generated Exception."
   ]
  },
  {
   "cell_type": "code",
   "execution_count": 74,
   "metadata": {},
   "outputs": [
    {
     "name": "stdout",
     "output_type": "stream",
     "text": [
      "Enter the Number : -4\n",
      "Number is Negative\n"
     ]
    }
   ],
   "source": [
    "try:\n",
    "    n = int(input(\"Enter the Number : \"))\n",
    "    if n > 0:\n",
    "        pass\n",
    "    else:\n",
    "        raise ZeroDivisionError\n",
    "except:\n",
    "    print(\"Number is Negative\")"
   ]
  },
  {
   "attachments": {},
   "cell_type": "markdown",
   "metadata": {},
   "source": [
    "### 02) WAP to raise your custom Exception."
   ]
  },
  {
   "cell_type": "code",
   "execution_count": 66,
   "metadata": {},
   "outputs": [
    {
     "name": "stdout",
     "output_type": "stream",
     "text": [
      "Enter the Number : 123\n",
      "it is not a even number\n"
     ]
    }
   ],
   "source": [
    "class EvenNumberException(Exception):\n",
    "    pass\n",
    "    \n",
    "try:\n",
    "    n = int(input(\"Enter the Number : \"))\n",
    "    if n%2 == 0:\n",
    "        print(\"it is even number\")\n",
    "    else:\n",
    "        raise EvenNumberException\n",
    "except EvenNumberException:\n",
    "    print(\"it is not a even number\")"
   ]
  }
 ],
 "metadata": {
  "kernelspec": {
   "display_name": "Python 3 (ipykernel)",
   "language": "python",
   "name": "python3"
  },
  "language_info": {
   "codemirror_mode": {
    "name": "ipython",
    "version": 3
   },
   "file_extension": ".py",
   "mimetype": "text/x-python",
   "name": "python",
   "nbconvert_exporter": "python",
   "pygments_lexer": "ipython3",
   "version": "3.9.12"
  }
 },
 "nbformat": 4,
 "nbformat_minor": 4
}
