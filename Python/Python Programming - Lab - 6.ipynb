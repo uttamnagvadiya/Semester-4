{
 "cells": [
  {
   "attachments": {},
   "cell_type": "markdown",
   "metadata": {},
   "source": [
    "<a href='https://www.darshan.ac.in/'> <img src='https://www.darshan.ac.in/Content/media/DU_Logo.svg' width=\"250\" height=\"300\"/></a>\n",
    "<pre>\n",
    "<center><b><h1>Python Programming - 2101CS405</b></center>\n",
    "<center><b><h1>Lab - 6</b></center>    \n",
    "<pre>"
   ]
  },
  {
   "attachments": {},
   "cell_type": "markdown",
   "metadata": {},
   "source": [
    "# Tuples, dictionary, set"
   ]
  },
  {
   "attachments": {},
   "cell_type": "markdown",
   "metadata": {},
   "source": [
    "# A"
   ]
  },
  {
   "attachments": {},
   "cell_type": "markdown",
   "metadata": {},
   "source": [
    "### 01) WAP to sort python dictionary by key or value."
   ]
  },
  {
   "cell_type": "code",
   "execution_count": 15,
   "metadata": {},
   "outputs": [
    {
     "name": "stdout",
     "output_type": "stream",
     "text": [
      "{'Devanshu': 6541, 'Karan': 435, 'Kishan': 252, 'Nirmal': 354, 'Uttam': 10}\n",
      "{'Uttam': 10, 'Kishan': 252, 'Nirmal': 354, 'Karan': 435, 'Devanshu': 6541}\n"
     ]
    }
   ],
   "source": [
    "dictionary = {\"Uttam\" : 10, \"Kishan\" : 252, \"Karan\" : 435, \"Nirmal\" : 354, \"Devanshu\" : 6541}\n",
    "\n",
    "# // Sort by Key\n",
    "print(dict(sorted(dictionary.items())))\n",
    "    \n",
    "# Sort by Value\n",
    "sortByValue = sorted(dictionary.items(), key=lambda x:x[1]);\n",
    "print(dict(sortByValue))"
   ]
  },
  {
   "attachments": {},
   "cell_type": "markdown",
   "metadata": {},
   "source": [
    "### 02) WAP to merge two dictionaries given by user."
   ]
  },
  {
   "cell_type": "code",
   "execution_count": 17,
   "metadata": {},
   "outputs": [
    {
     "name": "stdout",
     "output_type": "stream",
     "text": [
      "Enter the Length you want to create dictionary  : 3\n",
      "Enter the Key in String : Kishan\n",
      "Enter the Value : 123\n",
      "Enter the Key in String : Uttam\n",
      "Enter the Value : 456\n",
      "Enter the Key in String : Karan\n",
      "Enter the Value : 789\n",
      "Enter the Length you want to create dictionary  : 3\n",
      "Enter the Key in String : Raju\n",
      "Enter the Value : 987\n",
      "Enter the Key in String : Kaju\n",
      "Enter the Value : 654\n",
      "Enter the Key in String : Bagho\n",
      "Enter the Value : 321\n",
      "{'Kishan': 123, 'Uttam': 456, 'Karan': 789} \n",
      " {'Raju': 987, 'Kaju': 654, 'Bagho': 321}\n",
      "{'Kishan': 123, 'Uttam': 456, 'Karan': 789, 'Raju': 987, 'Kaju': 654, 'Bagho': 321}\n"
     ]
    }
   ],
   "source": [
    "def createDictionary(n):\n",
    "    my_dict = {};\n",
    "    for i in range(0, n):\n",
    "        key = input(\"Enter the Key in String : \");\n",
    "        value = int(input(\"Enter the Value : \"));\n",
    "        my_dict[key] = value;\n",
    "        \n",
    "    return my_dict;\n",
    "\n",
    "lenOfdict1 = int(input(\"Enter the Length you want to create dictionary  : \"));\n",
    "dict1 = createDictionary(lenOfdict1);\n",
    "\n",
    "lenOfdict2 = int(input(\"Enter the Length you want to create dictionary  : \"));\n",
    "dict2 = createDictionary(lenOfdict2);\n",
    "\n",
    "mergeDict = dict1 | dict2;\n",
    "\n",
    "print(dict1, \"\\n\",dict2);\n",
    "print(mergeDict);\n"
   ]
  },
  {
   "attachments": {},
   "cell_type": "markdown",
   "metadata": {},
   "source": [
    "### 03) WAP to find tuples that have all elements divisible by K from a list of tuples."
   ]
  },
  {
   "cell_type": "code",
   "execution_count": 29,
   "metadata": {},
   "outputs": [
    {
     "name": "stdout",
     "output_type": "stream",
     "text": [
      "Enter the number you want to divide : 5\n",
      "[(45, 185, 645), (50, 555, 995)]\n"
     ]
    }
   ],
   "source": [
    "list1 = [(45,185,645), (987,357,465), (50, 555, 995)];\n",
    "    \n",
    "k = int(input(\"Enter the number you want to divide : \"))\n",
    "    \n",
    "result = [i for i in list1 if all(ele % k == 0 for ele in i)]\n",
    "\n",
    "print(result)\n",
    "    "
   ]
  },
  {
   "attachments": {},
   "cell_type": "markdown",
   "metadata": {},
   "source": [
    "### 04) WAP to find Tuples with positive elements in List of tuples."
   ]
  },
  {
   "cell_type": "code",
   "execution_count": 30,
   "metadata": {},
   "outputs": [
    {
     "name": "stdout",
     "output_type": "stream",
     "text": [
      "[(4, 5, 9), (4, 6)]\n"
     ]
    }
   ],
   "source": [
    "list1 = [(4, 5, 9), (-3, 2, 3), (-3, 5, 6), (4, 6)];\n",
    "\n",
    "result = [i for i in list1 if all(ele>= 0 for ele in i)]\n",
    "\n",
    "print(result)"
   ]
  },
  {
   "attachments": {},
   "cell_type": "markdown",
   "metadata": {},
   "source": [
    "### 05) WAP which perform union of two sets."
   ]
  },
  {
   "cell_type": "code",
   "execution_count": 1,
   "metadata": {},
   "outputs": [
    {
     "name": "stdout",
     "output_type": "stream",
     "text": [
      "{1, 2, 3, 4, 5, 6, 7, 8, 9, 10}\n"
     ]
    }
   ],
   "source": [
    "set1 = {2,4,6,8,10}\n",
    "set2 = {1,3,5,7,9}\n",
    "\n",
    "set = set1.union(set2)\n",
    "\n",
    "print(set)"
   ]
  },
  {
   "attachments": {},
   "cell_type": "markdown",
   "metadata": {},
   "source": [
    "# B"
   ]
  },
  {
   "attachments": {},
   "cell_type": "markdown",
   "metadata": {},
   "source": [
    "### 01) WAP to convert binary tuple into integer."
   ]
  },
  {
   "cell_type": "code",
   "execution_count": 8,
   "metadata": {},
   "outputs": [
    {
     "name": "stdout",
     "output_type": "stream",
     "text": [
      "5\n"
     ]
    }
   ],
   "source": [
    "tup=(1,0,1)\n",
    "l1=list(map(str,tup))\n",
    "string=''.join(l1)\n",
    "decimal=int(string,2)\n",
    "print(decimal)"
   ]
  },
  {
   "attachments": {},
   "cell_type": "markdown",
   "metadata": {},
   "source": [
    "### 02) WAP to count frequency in list by dictionary."
   ]
  },
  {
   "cell_type": "code",
   "execution_count": 5,
   "metadata": {},
   "outputs": [
    {
     "name": "stdout",
     "output_type": "stream",
     "text": [
      "{'uttam': 1, 'kishan': 2, 'karan': 3}\n"
     ]
    }
   ],
   "source": [
    "list1 = ['uttam', 'kishan', 'karan', 'karan', 'kishan', 'karan']\n",
    "dictionary = {}\n",
    "\n",
    "for i in list1:\n",
    "    if (i in dictionary):\n",
    "        dictionary[i] += 1\n",
    "    else:\n",
    "        dictionary[i] = 1\n",
    "\n",
    "print(dictionary)"
   ]
  },
  {
   "attachments": {},
   "cell_type": "markdown",
   "metadata": {},
   "source": [
    "### 03) WAP to remove all the duplicate words from the list using dictionary."
   ]
  },
  {
   "cell_type": "code",
   "execution_count": 3,
   "metadata": {},
   "outputs": [
    {
     "name": "stdout",
     "output_type": "stream",
     "text": [
      "['uttam', 'kishan', 'karan']\n"
     ]
    }
   ],
   "source": [
    "list1 = ['uttam', 'kishan', 'karan', 'karan', 'kishan']\n",
    "dictionary = {}\n",
    "\n",
    "for i in list1:\n",
    "    if (i in dictionary):\n",
    "        dictionary[i] += 1\n",
    "    else:\n",
    "        dictionary[i] = 1\n",
    "\n",
    "newList = []\n",
    "for i in dictionary.items():\n",
    "    newList.append(i[0])\n",
    "\n",
    "print(newList)"
   ]
  }
 ],
 "metadata": {
  "kernelspec": {
   "display_name": "Python 3 (ipykernel)",
   "language": "python",
   "name": "python3"
  },
  "language_info": {
   "codemirror_mode": {
    "name": "ipython",
    "version": 3
   },
   "file_extension": ".py",
   "mimetype": "text/x-python",
   "name": "python",
   "nbconvert_exporter": "python",
   "pygments_lexer": "ipython3",
   "version": "3.11.0"
  }
 },
 "nbformat": 4,
 "nbformat_minor": 4
}
